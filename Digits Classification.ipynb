{
 "cells": [
  {
   "cell_type": "markdown",
   "metadata": {
    "slideshow": {
     "slide_type": "slide"
    }
   },
   "source": [
    "# MNIST digits classification with TensorFlow"
   ]
  },
  {
   "cell_type": "markdown",
   "metadata": {},
   "source": [
    "<img src=\"images/mnist_sample.png\" style=\"width:30%\">"
   ]
  },
  {
   "cell_type": "code",
   "execution_count": 1,
   "metadata": {},
   "outputs": [
    {
     "name": "stdout",
     "output_type": "stream",
     "text": [
      "We're using TF 2.1.0\n"
     ]
    },
    {
     "name": "stderr",
     "output_type": "stream",
     "text": [
      "Using TensorFlow backend.\n"
     ]
    }
   ],
   "source": [
    "import numpy as np\n",
    "from sklearn.metrics import accuracy_score\n",
    "from matplotlib import pyplot as plt\n",
    "import tensorflow as tf\n",
    "print(\"We're using TF\", tf.__version__)\n",
    "\n",
    "import sys\n",
    "sys.path.append(\"../..\")\n",
    "\n",
    "import matplotlib_utils\n",
    "from importlib import reload\n",
    "reload(matplotlib_utils)\n",
    "\n",
    "import grading_utils\n",
    "reload(grading_utils)\n",
    "\n",
    "import keras_utils"
   ]
  },
  {
   "cell_type": "markdown",
   "metadata": {},
   "source": [
    "# Look at the data\n",
    "\n",
    "In this task we have 50000 28x28 images of digits from 0 to 9.\n",
    "We will train a classifier on this data."
   ]
  },
  {
   "cell_type": "code",
   "execution_count": 3,
   "metadata": {},
   "outputs": [],
   "source": [
    "import preprocessed_mnist\n",
    "X_train, y_train, X_val, y_val, X_test, y_test = preprocessed_mnist.load_dataset()"
   ]
  },
  {
   "cell_type": "code",
   "execution_count": 7,
   "metadata": {},
   "outputs": [
    {
     "name": "stdout",
     "output_type": "stream",
     "text": [
      "X_train [shape (50000, 28, 28)] sample patch:\n",
      " [[0.         0.29803922 0.96470588 0.98823529 0.43921569]\n",
      " [0.         0.33333333 0.98823529 0.90196078 0.09803922]\n",
      " [0.         0.33333333 0.98823529 0.8745098  0.        ]\n",
      " [0.         0.33333333 0.98823529 0.56862745 0.        ]\n",
      " [0.         0.3372549  0.99215686 0.88235294 0.        ]]\n",
      "\n",
      " A closeup of a sample patch:\n"
     ]
    },
    {
     "data": {
      "image/png": "[encoded data removed]",
      "text/plain": [
       "<Figure size 432x288 with 1 Axes>"
      ]
     },
     "metadata": {
      "needs_background": "light"
     },
     "output_type": "display_data"
    },
    {
     "name": "stdout",
     "output_type": "stream",
     "text": [
      "And the whole sample:\n"
     ]
    },
    {
     "data": {
      "image/png": "[encoded data removed]",
      "text/plain": [
       "<Figure size 432x288 with 1 Axes>"
      ]
     },
     "metadata": {
      "needs_background": "light"
     },
     "output_type": "display_data"
    },
    {
     "name": "stdout",
     "output_type": "stream",
     "text": [
      "y_train [shape (50000,)] 10 samples:\n",
      " [5 0 4 1 9 2 1 3 1 4]\n"
     ]
    }
   ],
   "source": [
    "# X contains rgb values divided by 255\n",
    "print(\"X_train [shape %s] sample patch:\\n\" % (str(X_train.shape)), X_train[1, 15:20, 5:10])\n",
    "print(\"\\n A closeup of a sample patch:\")\n",
    "plt.imshow(X_train[1, 15:20, 5:10], cmap=\"Greys\")\n",
    "plt.show()\n",
    "print(\"And the whole sample:\")\n",
    "plt.imshow(X_train[1], cmap=\"Greys\")\n",
    "plt.show()\n",
    "print(\"y_train [shape %s] 10 samples:\\n\" % (str(y_train.shape)), y_train[:10])"
   ]
  },
  {
   "cell_type": "markdown",
   "metadata": {},
   "source": [
    "#### Linear model\n",
    "\n",
    "We want to train a linear classifier $\\vec{x} \\rightarrow y$ with SGD using TensorFlow.\n",
    "\n",
    "We will need to calculate a logit (a linear transformation) $z_k$ for each class: \n",
    "$$z_k = \\vec{x} \\cdot \\vec{w_k} + b_k \\quad k = 0,\\ldots,9$$\n",
    "where $w_k \\in \\mathbb{R}^{784}, b^k\\in \\mathbb{R}^{10}$.\n",
    "Then we transform logits $z_k$ to valid probabilities $p_k$ with softmax: \n",
    "$$p_k = \\frac{e^{z_k}}{\\sum_{i=0}^{9}{e^{z_i}}} \\quad k = 0,\\ldots,9$$\n",
    "\n",
    "We will use a cross-entropy loss to train our multi-class classifier:\n",
    "$$\\text{cross-entropy}(y, p) = -\\sum_{k=0}^{9}{\\log(p_k)[y = k]}$$ \n",
    "\n",
    "where \n",
    "$$\n",
    "[x]=\\begin{cases}\n",
    "       1, \\quad \\text{if $x$ is true} \\\\\n",
    "       0, \\quad \\text{otherwise}\n",
    "    \\end{cases}\n",
    "$$\n",
    "\n",
    "Cross-entropy minimization pushes $p_k$ close to 1 when $y = k$, which is what we want.\n",
    "\n",
    "Here's the plan:\n",
    "* Flatten the images (28x28 -> 784) with to simplify our linear model implementation\n",
    "* Convert `y_train` to one-hot encoded vectors that are needed for cross-entropy\n",
    "* Use a shared variable `W` for all weights (a column $\\vec{w_k}$ per class) and `b` for all biases.\n",
    "* Aim for ~0.93 validation accuracy"
   ]
  },
  {
   "cell_type": "code",
   "execution_count": 31,
   "metadata": {},
   "outputs": [
    {
     "name": "stdout",
     "output_type": "stream",
     "text": [
      "(50000, 784)\n",
      "(10000, 784)\n"
     ]
    }
   ],
   "source": [
    "X_train_flat = X_train.reshape((X_train.shape[0], -1))\n",
    "print(X_train_flat.shape)\n",
    "\n",
    "X_val_flat = X_val.reshape((X_val.shape[0], -1))\n",
    "print(X_val_flat.shape)"
   ]
  },
  {
   "cell_type": "code",
   "execution_count": 32,
   "metadata": {},
   "outputs": [
    {
     "name": "stdout",
     "output_type": "stream",
     "text": [
      "(50000, 10)\n",
      "[[0. 0. 0. 0. 0. 1. 0. 0. 0. 0.]\n",
      " [1. 0. 0. 0. 0. 0. 0. 0. 0. 0.]\n",
      " [0. 0. 0. 0. 1. 0. 0. 0. 0. 0.]] [5 0 4]\n"
     ]
    }
   ],
   "source": [
    "import keras\n",
    "\n",
    "y_train_oh = keras.utils.to_categorical(y_train, 10)\n",
    "y_val_oh = keras.utils.to_categorical(y_val, 10)\n",
    "\n",
    "print(y_train_oh.shape)\n",
    "print(y_train_oh[:3], y_train[:3])"
   ]
  },
  {
   "cell_type": "code",
   "execution_count": 33,
   "metadata": {},
   "outputs": [],
   "source": [
    "# Initialize model parameters: W and b\n",
    "w = tf.random.uniform(\n",
    "    shape=(784, 10), minval=0, maxval=None, dtype=tf.float32, seed=12, name=None)\n",
    "b = tf.random.uniform(\n",
    "    shape=[10], minval=0, maxval=None, dtype=tf.float32, seed=10, name=None)\n",
    " \n",
    "W = tf.Variable(w, trainable=True) \n",
    "b = tf.Variable(b, trainable=True)"
   ]
  },
  {
   "cell_type": "code",
   "execution_count": 34,
   "metadata": {},
   "outputs": [],
   "source": [
    "def logits(input_X, W, b):\n",
    "    return input_X @ W + b # Resulting shape is [input_X.shape[0], 10]"
   ]
  },
  {
   "cell_type": "code",
   "execution_count": 35,
   "metadata": {},
   "outputs": [],
   "source": [
    "def predictions(logits): \n",
    "    probas = tf.nn.softmax(logits) \n",
    "    classes = tf.argmax(probas, axis=1) \n",
    "    return classes"
   ]
  },
  {
   "cell_type": "code",
   "execution_count": 36,
   "metadata": {},
   "outputs": [],
   "source": [
    "def loss(y_true, preds):\n",
    "    return tf.reduce_mean(tf.nn.softmax_cross_entropy_with_logits(y_true, preds))"
   ]
  },
  {
   "cell_type": "code",
   "execution_count": 39,
   "metadata": {
    "scrolled": false
   },
   "outputs": [
    {
     "data": {
      "text/html": [
       "<img src=\"data:image/jpeg;base64,/9j/4AAQSkZJRgABAQEASABIAAD/2wBDAAIBAQEBAQIBAQECAgICAgQDAgICAgUEBAMEBgUGBgYFBgYGBwkIBgcJBwYGCAsICQoKCgoKBggLDAsKDAkKCgr/2wBDAQICAgICAgUDAwUKBwYHCgoKCgoKCgoKCgoKCgoKCgoKCgoKCgoKCgoKCgoKCgoKCgoKCgoKCgoKCgoKCgoKCgr/wAARCAEgA2ADASIAAhEBAxEB/8QAHwAAAQUBAQEBAQEAAAAAAAAAAAECAwQFBgcICQoL/8QAtRAAAgEDAwIEAwUFBAQAAAF9AQIDAAQRBRIhMUEGE1FhByJxFDKBkaEII0KxwRVS0fAkM2JyggkKFhcYGRolJicoKSo0NTY3ODk6Q0RFRkdISUpTVFVWV1hZWmNkZWZnaGlqc3R1dnd4eXqDhIWGh4iJipKTlJWWl5iZmqKjpKWmp6ipqrKztLW2t7i5usLDxMXGx8jJytLT1NXW19jZ2uHi4%2BTl5ufo6erx8vP09fb3%2BPn6/8QAHwEAAwEBAQEBAQEBAQAAAAAAAAECAwQFBgcICQoL/8QAtREAAgECBAQDBAcFBAQAAQJ3AAECAxEEBSExBhJBUQdhcRMiMoEIFEKRobHBCSMzUvAVYnLRChYkNOEl8RcYGRomJygpKjU2Nzg5OkNERUZHSElKU1RVVldYWVpjZGVmZ2hpanN0dXZ3eHl6goOEhYaHiImKkpOUlZaXmJmaoqOkpaanqKmqsrO0tba3uLm6wsPExcbHyMnK0tPU1dbX2Nna4uPk5ebn6Onq8vP09fb3%2BPn6/9oADAMBAAIRAxEAPwD9/KKKKACiiigAooooAKKKKACiiigAooooAKKKKACiiigAooooAKKKKACiiigAooooAKKKKACiiigAooooAKKKKACiiigAooooAKKKKACiiigAooooAKKKKACiiigAooooAKKKKACiiigAooooAKKKKACiiigAooooAKKKKACiiigAooooAKKKKACiiigAooooAKKKKACiiigAooooAKKKKACiiigAooooAKKKKACiiigAooooAKKKKACiiigAooooAKKKKACiiigAooooAKKKKACiiigAooooAKKKKACiiigAooooAKKKKACiiigAooooAKKKKACiiigAooooAKKKKACiiigAooooAKKKKACvPfjt%2B1J8FP2b5NGsfil4g1Maj4ilnTQNB8OeF9R1zVNR8lVed4bHTbee5kjiVkMkixlI96biu5c%2BhV4N%2B0P8D/j5/wANJ%2BDv2tv2bLLwfrWueH/B2seFNX8KeOdcutLtLywv7mwuxcQXtraXj288U2noCpt3WVJSCUKK1ABpf/BTL9izWLvxPb2nxXv0h8FWsk/jLUrvwXrEFjoIS0iu9l5dy2iwWsrQzRskMjrJIWKorMrKL2n/APBQ/wDZK1HwBrXxFTx/q9vB4f1ay0vVdE1DwNrNrrkV5ebfscC6PNaLqEr3AYGER27eaAxTcFYjy2b9gH4y%2BMf2a/jn8NfGHinwppHin4o/FS38daHc6U1xeWFpeW0OiywQ3IkihkkiN3pRRwoyYHGDuJVaPi79i/8AaV%2BLmr/Ef45fG34S/CjWvFnjWx8KaPp/gKy%2BI2s2Wm6fY6Hcaldw3qa7b6al5DqDXOqTOksVoPJSKNFZiWcgHsviH9vv9mzwv4a8OeI9XvvG3meK0v5NE8P2vwm8SXGuSRWUscV3NJpMWntf28MLzQq8s0CIpmiy37xM%2Bmaz8RPBHhv4e3XxX8T%2BJbbSvDljo76rf6vqrfZYbSySIzPPMZdvlKsYLNvxtAOcYNfGHin9hH9s/WPgX4X8Nay3hfxV470a58RHRfGV/wDHbxNpGr%2BCLW%2BuUktLO11q1sJLzXIYkjhEy3qw/aTbReYCFGPUfjR/wTotfj1%2Bzb4n%2BHHxD%2BOfjW78d%2BMPhfH4Z17xS3jbWho818tpDE2oJoS3y2FuzzQLK3kRRSEPIBIrSM5AOkg/4KUfsZf8K58V/FbWPite6Jo3giysr7xQ/ifwdq%2Bk3NlZXkxhtb37LeWsVxJaSyK6pcxxtC3luQ%2BEYjj/AI3f8FZP2d/hn8ENU%2BMfgPRfFXiqbQfiD4X8L674Y/4QXXbHU7A6zqVrax3T2cmnNdeV5Fw88DeT5d48aW8MhknjB8r1T/gmJ8ZPHfwq8faR4i8DeG9G8Y%2BI9D0fR7DxDqv7RfjPxut3aWusW%2BoTRyf27AfsEZ8likUSzHe%2BGkxknv8A9qH9gz40/GD4g/F/4g%2BBfEPheOTxfB8LbzwlZ6tfXMSvf%2BE/EdzrUsN40dvJ5ENwGt4VljEzrl2MfyKrgHqFh/wUE/Zb1H4m2XwZh8T%2BJo/Fd5oun6xLoF38N9egudO0%2B9adILu/SSyU6dDut5VeS68pYiFEhQum6j4a/wCCmH7FPi3wZ4s%2BIWkfGC4TR/Bfgi68Zaxe6h4S1W0Fx4et0Z5tWsVntUbVLNVQ4nsxPGxZArEugbB0P9kP4ofEP4mfG74g/G9fD2gxfGj4O%2BHfCF1Y%2BE9duNRl0u4tE11Ltlnns7XzYwNViMT7FZikm6OPA3fN37Y37Kn7UOj/ALDHxS%2BJv7TF34AtIfhD%2BxT8QfBHhePwFqF5cNrzXukWxn1G6W5toBYqE0i3CWcbXAVppCZ22oKAPrPw9/wUl/Yy8TaHrHiPT/i1dQWehppU1/JqnhLVbJmtNSu1s7HUIUuLVGubCWdgovoQ9qoDO0qorMPT9E%2BLvw88R/FLX/gvofiH7T4k8LaXp%2Boa/YR2k22zgvmuBa7pinlF3%2ByzHy1cyKoRmVVkjLfJOofsz%2BIPFegeKfjb/wAFIvF/wz8J%2BBbf9nu5%2BHUlx4f8QTLay6beyQyXmq3k17BbpYOTBbCG2QzCAmT/AEiQsuOw/wCCPngP4u2f7I9r8f8A9pDUDf8AxJ%2BL15H4n8V6g9nJbtJCLSCy01fKl%2BeH/iX2lpI0TYKSzTZAYtkA%2BqqKKKACiiigAooooAKKKKACiiigAooooAKKKKACiiigAooooAKKKKACiiigAooooAKKKKACiiigAooooAKKKKACiiigAooooAK8R0j/AIKMfse6ld69Z6n8Urzw83hzw5c%2BINQk8a%2BEdV0GObSbd0jnv7WTUrWBb63R5IlaW2MqAyxjOXXPtN7FczWcsNndCCZ4mWKYx7/LYjhtp64POO9fmJq//BHL9uX4v6t4X1z43fHHQ31vw14P1Cz1DxRqHxW8TeJx4h1v7ZpV9a6idLvoobLSbaS50xfPsLIBRHJtWWQKgUA%2B2X/b/wD2YbX4aN8WNY8QeKtK0ttcg0axs9c%2BGWv2GqanfzIZIYLLTbixS9v2kQM6/Z4ZAyo7AkIxHReA/wBqz4H/ABH1%2By8J%2BHPEOqQ6vf8AhSfxJDpGteFdS0y7TTYbv7JLLLDeW8UkDrP8hhkVZe%2BzbzXk3xO%2BDn7bvxib4e/G3XPBvwq0P4h/Cjx1NrHh/wAM2vjjUr/Rdcs7jSbvTLmO4vn0qGaxmKXskkbpa3AjMQU%2BYJGxV%2BJPwG/bg1/4y%2BHf2mvA%2BjfCu08WX3ww1XwX4x0LUvFepSWGkLcX8N1a39lcJpwk1AxCN1kt5YrQSlxiWLHIB3Gk/wDBRv8AZA8R694F8LeFfiNqus6n8SfBuleLfBunaJ4H1m9nvND1F9lrqMiQWjNa2%2B7HmSTiNbcMpm8oMCdj4a/tufs3fFf4jXPwn8M%2BL9Ws9ft9LudThsvE/gzVtEW/sbeRI57uyl1G1gjv4I3liDy2zSIvmISQGUnyj9hT9hL4sfsw6/8ADjWfHniDw1dnwd%2Byl4R%2BGN%2B%2BkXM8rNq2lvM1zNF5kEe61bemxmKu235o0wK8a%2BGn/BKv9sbxP8UfC/ib9qb4w2eqRaf4A8V%2BF/GniaD4v%2BJNavPEUur2KW39p2umX0Men6EcqWNpaKUXKgTOI1WgD6l8J/8ABRf9kfxrosfirQfHeuf2Hcarpen6f4lvfh/rdrpWoy6lex2VlJaX09mlteQS3M0UYuIJHhBlQs4VgT6X4W%2BLvw88a/EDxT8LvC/iH7XrnguSzj8T2iWkwWxkuoPtEEZlZBG7tCVkKIzMiyRlgokTd8w%2BOPAnxF8K/wDBPbxp8CP%2BChnif4VeCPAWg/DSLQLb4meHfFt2GadI0trXUntLqzgTTZlmFvJDBHcXTGcoiOTtDdr/AMEr/h98WPDf7ImlfFX9oqwS3%2BJ3xYvpfHXxEhW3aL7Pf36xmG02N8yfZbGOys9pyQLXBoA%2BjaKKKACiiigAooooAKKKKACiiigAooooAKKKKACiiigAooooAKKKKACiiigAooooAKKKKACiiigAooooAKKKKACiiigAooooAKKKKACvF/j14/8A2i/%2BGi/AvwI%2BAvjPwV4fTX/BXiXXtX1Pxf4Lu9aJOnXeh28MMMdvqVj5Yb%2B1JWZmZ8%2BWgAXkn2ivkv8Abd%2BNnxV%2BAv7bPwf8cfDL9nLW/iXEPhb47i1/SfDV3Gl/Z2Z1LwmxuYYX/wCPpg6onlLhj5mcgKayrVoUKTqTvZb2Tf4JN/cmY4ivTw1GVWpflWrsm39yTb%2BSf4Hp3/CD/wDBQv8A6Og%2BDP8A4YfVv/moo/4Qf/goX/0dB8Gf/DD6t/8ANRXM/Bz/AIKsfsSfF/Vz4Qu/isPBXiaNxHdeFPiLaNot9byHpGRcYjd/9lHY19E2t1bXttHeWVxHNDKgeKWJwyup5BBHBB9ajDYvC4yHNQmpLyaf39V80jLCY/BY%2BHPhqkZryadvVbr0aT8jxz/hB/8AgoX/ANHQfBn/AMMPq3/zUUf8IP8A8FC/%2BjoPgz/4YfVv/mor2aiug6zxn/hB/wDgoX/0dB8Gf/DD6t/81FH/AAg//BQv/o6D4M/%2BGH1b/wCaivZqKAPGf%2BEH/wCChf8A0dB8Gf8Aww%2Brf/NRR/wg/wDwUL/6Og%2BDP/hh9W/%2BaivZqKAPGf8AhB/%2BChf/AEdB8Gf/AAw%2Brf8AzUUf8IP/AMFC/wDo6D4M/wDhh9W/%2BaivZqKAPGf%2BEH/4KF/9HQfBn/ww%2Brf/ADUUf8IP/wAFC/8Ao6D4M/8Ahh9W/wDmor2aigDxn/hB/wDgoX/0dB8Gf/DD6t/81FH/AAg//BQv/o6D4M/%2BGH1b/wCaivZqKAPGf%2BEH/wCChf8A0dB8Gf8Aww%2Brf/NRR/wg/wDwUL/6Og%2BDP/hh9W/%2BaivZqKAPGf8AhB/%2BChf/AEdB8Gf/AAw%2Brf8AzUUf8IP/AMFC/wDo6D4M/wDhh9W/%2BaivZqKAPGf%2BEH/4KF/9HQfBn/ww%2Brf/ADUUf8IP/wAFC/8Ao6D4M/8Ahh9W/wDmor2aigDxn/hB/wDgoX/0dB8Gf/DD6t/81FH/AAg//BQv/o6D4M/%2BGH1b/wCaivZqKAPGf%2BEH/wCChf8A0dB8Gf8Aww%2Brf/NRR/wg/wDwUL/6Og%2BDP/hh9W/%2BaivZqKAPGf8AhB/%2BChf/AEdB8Gf/AAw%2Brf8AzUUf8IP/AMFC/wDo6D4M/wDhh9W/%2BaivZqKAPGf%2BEH/4KF/9HQfBn/ww%2Brf/ADUUf8IP/wAFC/8Ao6D4M/8Ahh9W/wDmor2aigDxn/hB/wDgoX/0dB8Gf/DD6t/81FH/AAg//BQv/o6D4M/%2BGH1b/wCaivZqKAPGf%2BEH/wCChf8A0dB8Gf8Aww%2Brf/NRR/wg/wDwUL/6Og%2BDP/hh9W/%2BaivZqKAPGf8AhB/%2BChf/AEdB8Gf/AAw%2Brf8AzUUf8IP/AMFC/wDo6D4M/wDhh9W/%2BaivZqKAPGf%2BEH/4KF/9HQfBn/ww%2Brf/ADUUf8IP/wAFC/8Ao6D4M/8Ahh9W/wDmor2aigDxn/hB/wDgoX/0dB8Gf/DD6t/81FUPA/jj9qzwd%2B1Z4c%2BCPxu%2BI/w98TaN4m%2BHviHXIZvCvw8vtFurS602%2B0S3RWe41e%2BSWN01SUlQiMGiQhsZB91rxnxx/wApC/hf/wBkZ8ef%2BnbwhQB7NRRRQB5/%2B1X8arn9nP8AZv8AG3xx0/QU1W88MeHLq%2B0/TJZjFHd3SofIhdwCURpSis4BKqScHGK838G/tJ/tB%2BFvDXxs8J/FPwtofjXx38JdDj1jS4fAej3OnW/iWG40x7q2to7ae4u5IZzcQXFvjzZAwEcgClzGvs3xc%2BFng344fCzxF8G/iHYSXWheKdFudK1aCGZopGt54mjfY64aNwGJV1IKsAQQQK4n4Pfspp8H7vW9ei%2BPfjrxDr3iedpvEviPxB/ZTXeostpFa2u4W9hDFEttHFmJIY41LySvKJmdjQB4l%2Bz5%2B3f8Svj1pfxI8DeE/jj8NPEfiDwT4O8PeKY/G3gX4b6vq%2Blpb6jJqCzab/ZVvqT3d3ewHS5gRDcK5NzEpgV43iPN3P8AwUP/AGmNR%2BFPw4%2BI7zeHvCuiazJ40Txx46u/gl4j16z05NH1OKzs57jT7O%2BiuNBFxD5880V/KWtDE8UpV43NfQfhz9j6%2B8M2XiPWbL9qT4kS%2BOPFL6fHqnxLuI9CbVvsdl5ptrFIf7LGnpbobi6YILTJe6lcsXbcM25/YSsYvhKfg74W/ad%2BJug6fqV1rF14zvtMm0ZrzxVcapMZrua7luNNl8hizyBPsQtRGshVAoSPYAeva98RfAPg/wACS/Ezxj490XTPDttYrd3XiK/1KK3sI4GAImad32LGcghi2ORzXz7%2Bz/8AFH9sr9qvwJf/ABr%2BEv7SHwWtvCl5428Tab4YEfwq1HVxNp2n65fadbT/AG2HxHDHcmWK1SUyRxohMh2gDFfRnhPwtoHgbwrpngnwppqWel6Pp8NjptnGxKwW8SCOOMFiSQqqBySeK8U/ZCHmfs663bsTsm%2BOnjyKUA43I/j7VlZfoVJB9jQBq/8ACD/8FC/%2BjoPgz/4YfVv/AJqKP%2BEH/wCChf8A0dB8Gf8Aww%2Brf/NRT9f/AGoP%2BCfvhTXb3wt4p/aI%2BDmm6npt3Ja6jp2oeLtKhntZ42KSRSRvKGR1YFWVgCCCCMiqn/DX/wDwTg/6Oi%2BCP/hbaP8A/Ha5XjsCnZ1Yf%2BBx/wDkj3ocK8U1IKcMvxDTSaaoV2mnqmmqDTTTTTTaaaabTTLH/CD/APBQv/o6D4M/%2BGH1b/5qKP8AhB/%2BChf/AEdB8Gf/AAw%2Brf8AzUU/QP2oP%2BCfvivXbLwt4W/aI%2BDmpanqV3Ha6dp2n%2BLdKmnup5GCRxRxpKWd2YhVVQSSQAMmr37VfxL%2BFX7KH7N/jX9pLxT8Ll1bT/BXh641W603SNEE1xcrEudiLHGxGTjLkbUXLuVVWYa0q9Cum6c1K3Zp/k2efjsrzPK5xhjcPUpOSulUhOm2trpThBtX0uk1fS99DO/4Qf8A4KF/9HQfBn/ww%2Brf/NRR/wAIP/wUL/6Og%2BDP/hh9W/8AmoqhpP7Wf7H%2BueN5fhrpfhrX5fENt4cXXtQ0X/hTWurdafYPHdvFLdRtp4a1aX7DcrFHMEkmeMRxq7uis7TP2nP2YPE0nh3/AIRXTLBDrPjqbwre2HiXwlqOj6jY30ejXWrmFrK5sBMkptbdZlW4W3jeGTzFlZjFHNqcJd/4Qf8A4KF/9HQfBn/ww%2Brf/NRR/wAIP/wUL/6Og%2BDP/hh9W/8Amoqh8FP2v/2F/wBoLRpvEfw28TaX/Z0Xh/T9dS/8ReEbvRYLnS75mW1vYJNRtoFubeR1KCWIuofCEhiBV39o34iN8K9f8H/DT4QfADw14u8Z%2BNr28TStL1rVV0ixgtbO1a4ubme6SzunQD9zEqrC5aS4jzsQO6gDv%2BEH/wCChf8A0dB8Gf8Aww%2Brf/NRR/wg/wDwUL/6Og%2BDP/hh9W/%2Baiue1/8Aak%2BFsH7Fvhr9r/wn8FLK8Hi8eHbfRvDuqGCz8i/1i/tNPggu7kRyLbxxXN4izSqsm1Y5CiyHarclr37Z%2Bj6L8CfE/wAVtQ%2BFnwU0PUPh542vfC/xGh8afFZdK0bTr6CKKVUtdT/smT7U8iXFuVSSC3YNIyMA6FSAenf8IP8A8FC/%2BjoPgz/4YfVv/moo/wCEH/4KF/8AR0HwZ/8ADD6t/wDNRXn/AI1/bX%2BHvh64%2BCml6F%2BzG9xqfxXbQbnX9J1eKKxufBen6qVjgkvU8mTNybhmiS2%2BTzPst2wkH2chrPi39oX4jfDv9pK4%2BCni79jvwXqGkp4F8ReLoNS8GeLptR1X%2BztOkgit0k0%2BXSLdEubt7hUjhS5kG6KfDOI8kA7f/hB/%2BChf/R0HwZ/8MPq3/wA1FH/CD/8ABQv/AKOg%2BDP/AIYfVv8A5qK4r9gr9rjwD%2B23F4key%2BFXgFIfD9npVz/bPgPxZF4j0qR76KaQ2D3X2O28rULYRKbi12N5S3Nud7eYQv0N4MGzQzApOyG%2Bu4ogTnaiXMiqv0CgAewoA8u/4Qf/AIKF/wDR0HwZ/wDDD6t/81FH/CD/APBQv/o6D4M/%2BGH1b/5qK9mooA8Z/wCEH/4KF/8AR0HwZ/8ADD6t/wDNRR/wg/8AwUL/AOjoPgz/AOGH1b/5qK9mooA8Z/4Qf/goX/0dB8Gf/DD6t/8ANRR/wg//AAUL/wCjoPgz/wCGH1b/AOaivZqKAPGf%2BEH/AOChf/R0HwZ/8MPq3/zUUf8ACD/8FC/%2BjoPgz/4YfVv/AJqK9mooA8Z/4Qf/AIKF/wDR0HwZ/wDDD6t/81FH/CD/APBQv/o6D4M/%2BGH1b/5qK9mooA8Z/wCEH/4KF/8AR0HwZ/8ADD6t/wDNRR/wg/8AwUL/AOjoPgz/AOGH1b/5qK9mooA8Z/4Qf/goX/0dB8Gf/DD6t/8ANRR/wg//AAUL/wCjoPgz/wCGH1b/AOaivZqKAPGf%2BEH/AOChf/R0HwZ/8MPq3/zUUf8ACD/8FC/%2BjoPgz/4YfVv/AJqK9mooA8Z/4Qf/AIKF/wDR0HwZ/wDDD6t/81FH/CD/APBQv/o6D4M/%2BGH1b/5qK9mooA8Z/wCEH/4KF/8AR0HwZ/8ADD6t/wDNRR/wg/8AwUL/AOjoPgz/AOGH1b/5qK9a8Q%2BIvD/hLQ7vxP4r1yz0zTbCBp77UNQuUhgt4lGWeSRyFRQOSSQBXzj4/wD%2BCwP/AAT78B6umg2nx0i8UXhBeaLwTpdxq6wRD70ryWyNGEHGcMTz0NcuJx2CwaTr1Iwv3aX3Ld/JHvZJwtxLxLOUcpwVXEcu/s6c5pddZJcsdP5pL0Z2n/CD/wDBQv8A6Og%2BDP8A4YfVv/moo/4Qf/goX/0dB8Gf/DD6t/8ANRXmLf8ABcr/AIJdrEWX9pd2kC5EA8Fa1vLf3ebPGe3XFZHiL/gs/wDCqXTv7C%2BG37Nnxb1PxlrLiHwF4Z1fwVLYL4lkbhZYZ2LKsA5Z3YAqqk7TiuKWf5KldYiL9Hzf%2Bkp6vZLdvRXZ9NS8JPE6pNRllFenfrUh7JebvVlTXLFXlOSvGEU5TcYq57L/AMIP/wAFC/8Ao6D4M/8Ahh9W/wDmoq3%2Byt8RvjT4w1j4oeBPjpr/AIX1bVPAPxCi0Oz1Xwn4audJt7q1l0HR9TVnt7i9vGWRZNRlQsJdpWNDtU5z5JD8Wf8Ags1NCkz/ALJXweiLqCYpPHdwWTI%2B6dqkZHTgkV0f/BOzVfjNreufHnVP2g/CmjaH4vl%2BM0H9r6X4fvmubSDHhHw2IvLkYAtmERsc9GZh2rpw2Phip8sYTjpf3oOK%2B99fI8PO%2BFMVkWFVerisNVTly2o4inWktG7uMEmo6fFe12l1R9J0UUV3Hy4UUUUAFFFFABRRRQAUUUUAFFFFABRRRQAUUUUAFFFFABRRRQAUUUUAFeM%2BOP8AlIX8L/8AsjPjz/07eEK9mrxnxx/ykL%2BF/wD2Rnx5/wCnbwhQB2fxh/Z2%2BA/7QWkDQ/jd8IPDvim3VCsQ1vSYp3hz3jdl3xH3Qg%2B9fPVx/wAEh/hn8PrmTVP2QP2ifij8HJy5dNN8M%2BKpbvSWcnJMlndlxIM843ge1fXFFcOIy3AYufPVppy77S/8Ci4y/E87F5RlmOn7StSTl/MtJf8AgUXGX/kx8jDwV/wWa%2BDPy%2BG/jN8JPjHp8X3l8V6BPoOpyqOgQ2ZMAb3c0o/4KCftgfDb93%2B0R/wSz%2BI1ukf%2Btvvhpq9n4mSQf31jiMbKO%2B0nI719cUVz/wBmVqX8DE1I%2BTamv/J1f/yY5f7HxFH/AHbF1I%2BUnGov/Kkeb/yc%2BUNJ/wCC0v7B6XyaN8TPF3ifwBqMhwNO8c%2BCNQs5Ae4LLE6Lj3avV/Av7d37FnxKCDwR%2B1b8Pr6WT7tqviy1Sf8A79O4cfiteoaro%2Bk67Yvpmt6XbXltIMSW93AsiMPdWBBryjxz/wAE/v2HviQzy%2BMv2TPh9dTSf6y6j8K20E7fWWJFf9afJnlPadOfrGUX/wCSykvwD2fEdL4alKp6wnB/fGUl%2BB6vperaVrdmuoaNqdvd27/cntZlkRvoykg1Yr5R1T/gij/wTulvG1Twl8ItV8LXr9bzwx4z1O1YfRftDIPwWq//AA6Z07Qfm%2BGP7fP7R/hoL/q7S2%2BJhntV%2BsUsJz/31R9ZziHxYeL/AMNRf%2B3QQfW8%2Bp/HhIy/w1l%2BU4L8z62or5KH7Bn7dHh8Y%2BH3/BWzxvbBfuf8JH4D0zVsfXzSuaP%2BGff%2BCvmgcaT/AMFCfAviDb0OvfCeG03fX7M5x%2BFH9o4uPx4Sp8nTl%2BU1%2BQf2rjo/HgavydKX5VE/wPrWivkr%2Bw/%2BC4Wi8af45/Zo1tV76rpmuWzMP%2B2PANH/AAnP/Ba/SeL/AOBfwA1bHU6V4m1ODd9POHFH9qpfFQqr/uHf8pMP7bS%2BLC11/wBwr/8ApM2fWtFfJQ%2BP/wDwV903/j%2B/4J%2BeAtSx1/s74rRQ5%2BnmpR/w1x/wVRseL/8A4JH290B1ksvjvpC/%2BOvFmj%2B2MMt4VF/3CqfomH9v4NfFTqr/ALg1f0iz61or5K/4bg/4KG2v/IU/4JE%2BI0x1%2ByfFbSZ/5IM0f8N%2B/toQf8f/APwSa%2BIi%2Bv2fxZp0v8sUf21gevOv%2B4dT/wCQD/WHLevtF60qv/ys%2BtaK%2BSv%2BHif7UUP/AB9/8Epvi6P%2BuN5ZSfyaj/h5F%2B0Gn%2Bv/AOCV/wAbR6%2BXbWjf%2B1KP7ay7vL/wCp/8rD/WHKv5pf8Agur/APKz61or5K/4eWfHFf8AWf8ABLT47j/d0m2P/tWj/h5f8av%2BkW3x7/8ABJbf/HaP7by3%2BZ/%2BAVP/AJWH%2BsWUfzy/8F1f/lR9a0V8lf8ADy342n7v/BLX48/jo1sP/atH/Dyf48t/qv8Agll8cz/vafar/wC1KP7by7%2BZ/wDgFT/5WH%2BsWU/zy/8ABdX/AOVH1rRXyV/w8e/aOk/1H/BKz40H/roton83o/4eIftUyf8AHt/wSk%2BLJ9PN1GxT%2BbUf21l/eX/gFT/5AP8AWHKv5pf%2BC6v/AMrPrWivkr/hv/8AbMm/49P%2BCTfxGPp53inTo/50f8N1/t6zf8ef/BJDxg3p53xF0uP%2Ba0f21gf7/wD4Lqf/ACAf6w5b05//AAVV/wDlZ9a0V8lf8Nq/8FI5/wDjx/4JB6u3p5/xl0eL%2BcdH/DXf/BVC4/49v%2BCQsUI7NcfHzRj%2BgizR/bOD6Rqf%2BCqn/wAgH%2BsGA6Rqv/uDW/8AkD61or5K/wCGnP8AgrRdf6j/AIJg%2BHbX/r5%2BNVg%2BP%2B%2BI6D8ef%2BCwN1/x7/sEfD21z0%2B0/FJHx/3wlH9sYfpTqf8Agqf%2BSD%2B3sK9qVZ/9wan6pH1rRXyV/wALV/4LN3f/AB7/ALKXwbtM/wDP146uZMf98LR/wl//AAW3u/8Aj3%2BEH7O9pn/n61/V5Mf98Cj%2B1qfSjV/8Fy/VoP7cpPbD1n/3Cl%2BskfWtFfJXn/8ABc%2B8/wBXY/sq2anr5sviORh/3zxR/wAI5/wW/vP%2BPn4kfs2Wef8An00fW5Mf9/DR/ar6Yer/AOAf5zD%2B2m9sJX/8F2/OofWtFfJX/Csf%2BC0F5/x8/tP/AAUss9fsfgq8kx/38aj/AIUL/wAFgb3/AI%2Bf2%2Bfh7ZZ6/Y/hZHJj/v49H9p1nthav3RX51A/tiu9sHW/8Bgvzqn1rXjPjj/lIX8L/wDsjPjz/wBO3hCvMP8Ahlf/AIKv3v8Ax9f8FV9Iss9fsfwN0yTH/fySqnwT%2BDf7T3wl/wCChXgt/wBpH9sGX4sPqPwZ8Zf2QX8CWWhrpfl6t4V83AtWbzfN3x/e%2B75PH3jWtDG4itVUZYecU%2BrcLL7pt/gb4bMMVXrKEsLUgn9qTp2XyVSUvLRH2BRRRXoHqBRXO/Fz4peDfgf8LfEXxj%2BId%2B9roXhbRbnVNWnihaWRbeCJpH2IuWkchSFRQWZiAASRXB%2BCP2zfh7r3w88f%2BPviL4M8S/D6X4XWsl3460Dxhb2pvdMtFsVv1uf9AuLmGaJ7cllaKVzuSSNgskboAD16ivFvBH7ZMvj7SPENto37MfxHh8X%2BHbDStRn%2BHV8%2BiQ6vc6bqLzJaX0bNqf2MRO1reDElzHKptJVMYYKrYPxC/wCCl/wG%2BGP7JF5%2B174q8L%2BLF06w1jU9IufCNtY202tDUdNuLqDUbVY1uDbytbfYb2WSRJ2i8m1kkWRlAJAPoevBf2P/APk3rV/%2By9%2BOf/VgarXvVeC/sf8A/JvWr/8AZe/HP/qwNVoA6zX/ANib9jLxXrt74p8U/sj/AAx1LU9Su5LrUdR1DwDp0091PIxeSWSR4SzuzEszMSSSSTk1U/4YH/YV/wCjLPhL/wCG50z/AOMV534//wCCyn/BNz4X%2BO9b%2BGnjr9o77Drfh3V7nTNYsv8AhENYl%2Bz3VvK0Use%2BO0ZH2ujDcrFTjIJHNZH/AA/N/wCCWX/R0X/lk65/8hV4M8bwwptSnRvd3v7O9%2Bt9N73uaf8AETcTQ/dLPJx5dLfW6qtbS1vrCta1rWVrWsrWXs2gfsTfsZeFNdsvFPhb9kf4Y6bqem3cd1p2o6f4B06Ge1njYPHLHIkIZHVgGVlIIIBByK1v2mvgnZftJ/s6eO/2e9Q1%2BXSYfG/hHUNDfVYIBK9n9qt3hEwQkByhcNtJAbbjIzmvGvAP/BZT/gm58UPHei/DTwL%2B0d9u1vxFq9tpmj2X/CIaxF9ouriVYoo98loqJud1G5mCjOSQOa9x%2BOvxh8Ofs%2B/B7xH8b/GWmajdaN4V0qXU9ZTSoUknis4hunmCu6BljjDysM52xttDNhT6GBrZbWhJ4OUGk9eTltfz5UtbdyZcSVOJP3s8a8TyaXdWVXlvra8qlS197Jq%2B9up5H4i/Ym%2BIXj/Qfi7L49%2BPtrF4k%2BLfw703wzfa14T8KzabDpslmNRC3MUUl9PIyOL8BojMDiJsSDzBs4b4I/8ABKaL4ReIofE0PxJ8IWG34uDxy%2Bg%2BAvhfHoGkQMPCN54cNnbWqXkphDfahdtKzyMzoykfOHT0X4z/APBRD4O/BbS/F2uap4b1PULHwV4ts/DesaiPEGg6VaPf3GmxaiEhuNX1Kzhk2QTwBgH375gqK%2ByQpyNr/wAFHdJ8U%2BPo7/wTcWlx4C1zwZ8JNd8I6rFoUk95df8ACYeINW00rMj3cKxxiKzsyrAF4GkmdkucLBXcSdX8Df2KPEPwCj8CXfhH4uWVzf8Agb4G6V8OreXUPC7tDd/Y5IGN80aXasu9YWAhDnYXB8xtu1us/aN%2BAXjj4qeIPB/xM%2BD/AMT9O8I%2BM/BN7ePpWqa14afV7Ge1vLVre5tp7VLq1dwf3MqssyFZLePO9C6N5h4N/wCCjR%2BJn7RXg/wR4Q%2BD/iay8A%2BI/BXizX7TxZqmhLO3iGHSbjToY59Ljsrmacxv9qlbyp7dJ5g0DQoQTn0n9qT40fED4e6N4F8LfBxNIh8UfEnxvb%2BHdC1DxPpc9xZabmyvNQnuZ7WOa3lm22thcBYhLETIyAsozQBT8O/ssax4C/Zdtf2VvBninwvqGh6Z4HsNCsf%2BE78EtrEd5PHuF3c6hAt5BHdx3CbcwIIdjmRt7q6onL/C79iz4p/s%2BfBy5%2BHX7PfxV%2BHeg6j4h16%2B1XxpPefCJ5tJupZ4YbeOKw0221S3Wwhgt7eCBI3luAY4hv3uWcy6V%2B118U3/AGCfGv7R7/Duy1jxx4F/4SvTL7RNHhuBZ6hqeh6lfabLNDGDJOtvLJZGcRAySrG%2BzLuMnlfgP%2B2D8Wf2i9A%2BIXhP4bftH/Bq/wBT%2BHes2Et/8U7HwjeXHhi90e509rkyRWy6uCJYpUlhkcXzxKImY4fdCgBHqv8AwR8%2BAU3hn4daboPxC8e2Gq%2BBZvCS32tQ/EHXIRrtvoMEUECzWlpfwWsczxx489ItyFmKjkivUfEv7IFj438WfGfxX4t%2BIl%2B1x8WvBtr4StLjS4Pstz4c0aCzuYxFBLvffN9qv7%2B680KmDNEhU%2BSHb5k%2BM/8AwVM/aV8D/AfwH8U9I8C%2BHtNvNf8AhXrPi66%2B0eCdX1i21eWyuIIreMfZbiJ/D9hdRSrc/wBqahvtrZJ0EpyjFvoPx58b/wBoP4d/tPfDrwTda/4F1rw18SddubOy8I6XoN2uuaZYQaXNdT6s9/8AbXgngiuI4IXX7JEo%2B3QKJTIyJIAaX7L37LHjf4K%2BPPEPxT%2BKPxT0TxLr2ueFNB8NRL4X8FnQbC207STfNbk25u7ovcM2oT75PMVNiQokUYQ7vV/B/wDyCZv%2Bwrff%2BlctalZfg/8A5BM3/YVvv/SuWgDUooooAKKKKACiiigAooooAKKKKACiiigAoorw79oP/go/%2Bxl%2BzPeS6B8SPjdpk2vxuYk8K%2BH92o6m83QQm3twzRuTwPM2DPcVhiMThsJT9pXmox7tpfn%2Bl35HqZRkec8QYxYXLMNUr1H9mnCU3bu%2BVOy7uTil1aPcay5PHHgqLxOPBEvjDS11poPPGkNqEYujF/f8rdv2%2B%2BMV8haZbf8ABVD9t7w/L4hHi/Rf2fPAOvy7dP01NKkuvF66ccfvJHZhFazSLnG3a8W7pkBm6Sz/AOCKf/BOseDR4X8QfBa51m9eUTXvijU/Ed62q3k/8UslwkqnLckqoVMn7orzlj8fivewtD3e9RuF/wDCkpS13vJRW2nb7OpwlwnkTdLP81/fXs6eEhHEum1v7WpKdKjeL93kozqybT/eJLXS%2BNH/AAVE%2BD3hfxlL8Fv2avCmrfGn4ijK/wDCMeAgJrazbON15fYMFsgOQxy5Q/eVetYMviv/AILa%2BM7Rm0f4TfATwYl2uxE1nXtRv7ux3ceYTADDIy5yBggkdxX0X8F/gL8Gf2dfBsXw/wDgf8NdJ8M6RFgm10q0CGVgMb5X%2B/K%2BOruWY9zXXU1gcfiPexOIcf7tP3Uv%2B3mpSk/N8vkkTLirhTJ7UcmymnVS3q4xOtUm%2B6pwqUqFKPVQiqr/AJpy1R8fp/wTB%2BKHxfu9Lj/bd/bh8W/FDQLa9TUNU8DxaVBpWk312p3Isi253PArHIj4zgHjpX1D4A%2BFPwu%2BFGmto/wt%2BG2geGrR8b7XQNHgs42x0ysSqDit%2BiurC5dg8HJypx957ybcpf8AgUm3byul5HhZ7xlxJxFSjQxlf91C/LSpxhRpJt3bVKjGnTu7L3nCUrJLmskJ5aZzsH5UtFFdp8uFeM/sv/8AJb/2jv8Ass1j/wCoV4Xr2avGf2X/APkt/wC0d/2Wax/9QrwvQB7NRRRQAUUUUAFFFFABRRRQAUUUUAFFFFABRRRQAUUUUAFFFFABRRVHxR4hsPCXhrUfFeqhza6ZYzXdyIly3lxoXbA7nCmgC9RXzX%2Bxr%2B1L8fPip4w0bwr8f9N8JI/jf4T6d8QPC6%2BE9Pubf%2By7e4lCT6ZdNPcTC6khE1ptu4xAspeX9xFsG7mfib%2B3D8cP2WtY%2BKcPxxvvAnjS08A/CG48bXMng7RrvRxolx55jstLv5bm8u1c3SiV0uAISq2cztDtZKAPrqvGfHH/ACkL%2BF//AGRnx5/6dvCFSfsbfHDxH8afCWtv43%2BKXh7xFrmj6slvqFpovw41fwrLpYe3ilSGex1e4muW3BzJHcYjSaN1KpwSeav/AIufCjxz/wAFNvBfgLwT8TvD2sa74Y%2BD3jiLxLoula1BcXekvJq3hLy1uYY3LwFtj4DhSdpx0NAH0PRRRQAUUUUAFFFFABRRRQAUUUUAFFFFABRRRQAUUUUAFFFFABRRRQAUUUUAFFFFABRRRQAUUUUAFFFFABRRRQAUUUUAFFFFABXjPjj/AJSF/C//ALIz48/9O3hCvZq8Z8cf8pC/hf8A9kZ8ef8Ap28IUAezUUUUAef/ALVfwVuv2jP2bvG3wO07Xo9KvPE/hy6sdO1OaEyx2l0yEwTOgILosoRmQEFlBGRnNee/CP4GfHqXxR8SPiL%2B0B4B%2BHtze/E%2BzhsNW8NaX4nu77TrSws7D7Pb27ST6dC14LiWe8aYtHEIo5I0VZyrMfoKigD49%2BCH7C/xM%2BD1r8SviAfgd8O9W1fx/wCH9D8Ly/DXxJ8Vtb1zRm0PTzfnZPq2p6dNcSl/7SnQW32PyI4oIolAy7njfiL/AMEivih8Qf2P9T%2BFuhfHubwL4qXwn4x0bwp4Q8IPYSeE9Hs9bunnj0oNfaTPcrbQoILYT26W0giR1iSJCIx96UUAYGo/D%2B38Q/DcfDfxb4s1/UFl02O0v9bttXk0vUrtlVQ0/wBo037MYJXI3MbcRAFiFVV%2BUeK/sM%2BHrDwj%2ByxceFtKuL6W10743%2BNLa3l1PVJ725dE8faqoMtxcO8074HzSSOzsclmJJNfRNeJ/sPWFpqfwF1%2BxvoBJFJ8ZfiMGUkj/mdtaIORyCDggjkEUAe2UVlf8IfpP/P3qn/g8u//AI7S/wDCH6T/AM/eq/8Ag8u//jtAGpVTXtC0fxRod74Z8RabFeafqNpJa31ncJujnhkUo8bDurKSCPQ1W/4Q/Sf%2BfvVf/B5d/wDx2j/hD9J/5%2B9V/wDB5d//AB2gD5%2B8E/8ABMH4UfDT4R%2BA/hh8PPjV8R9K1D4fa3qeqaX45XU9PudbvJb9JoroXUlzZSQSbopvKV1hSWNIYhG6bSTY8Df8ExPgH8P/AA14e8K6J4t8YSW3hrw18PNDsGu9Stnke28G6rd6ppbSN9nG6SWe8lW4bgOioIxCwLt7z/wh%2Bk/8/eq/%2BDy7/wDjtH/CH6T/AM/eq/8Ag8u//jtAHiHw2/4J3eBfhT8RNL%2BIHhL46/ERV8L%2BG9d0LwHoVxeabJYeFrPVZraaZLRDY75TE9pB5JunuNipsO5Plr0j45/APRPjv4N0vw5q/jTXdE1TQNatdY8PeLNAe1XUdM1CAMq3MQnglt2LRyTROkkLxvHNIpTB46f/AIQ/Sf8An71X/wAHl3/8do/4Q/Sf%2BfvVf/B5d/8Ax2gDi/ht%2BzbYfCL4YQ/Cv4e/FXxVYWqadq63Gok2E15dapqV015ca1I8toym9%2B0y3EwAUWxe5k3QOBGE86%2BIP/BN7wf8TPhLrfwy8U/tGfEqW%2B8WeLbLXvGvi/forah4i%2ByRJFBp93C%2BmNYnTwkUIa1jtUjk8s7w/nT%2Bb7z/AMIfpP8Az96r/wCDy7/%2BO0f8IfpP/P3qv/g8u/8A47QB4t8VP2A9D%2BMFnA3ir9pL4lRapceDLvwl4s13TZdGt7nxRotxKZHtLtV03yYdu%2BRUms47aZFkfEmTmr/g39iTTPAX7TOp/tMeGf2g/HsU2q2Njp0nhGeHRJtKttMtIfLg063eTTWvbe1Dl5ykd0peaRnYnIA9a/4Q/Sf%2BfvVf/B5d/wDx2j/hD9J/5%2B9V/wDB5d//AB2gDUrK8H/8gmb/ALCl9/6Vy0f8IfpP/P3qn/g8u/8A47V%2BwsLTTLRLGxgEcUYwqgk98k5PJJOSSeSTQBNRRRQAUUUUAFFFFABRUOo6jp%2BkWE%2Bq6tfQ2trawtLc3NxKEjijUEs7McBVABJJ4AFfN/xE/wCCuf7CPgi/j8PeGfi63jzW52K2ug/DjTpdauZyOu024MX5uM9s1zYnG4PBxTr1Ixv3aV/Rbv5JnuZJwzxFxJVlTyrB1a7jv7OEpKPX3pJcsVZN3nOKsm721PpaivjvV/8AgsH4auUXwV4G/Yz%2BNk/xF1GQJ4a8A%2BJPBbaVNqIIz9oadmkjht1GC8hyVBztxkia71P/AILAftJ3i%2BGY/Bvg39nLRUX/AImGvvq1v4q1a4JzxaxoFgQY4JkwwOCrdq4f7bwdTTDqVV9oRk9ezbUYxfX3mtNbbX%2Bp/wCIYcSYRKpnE6OBp6vmr1qUW4reUKdOderVjfROlCScrxUtJOP1Z4v8ZeEfh/4cu/GPjvxRp%2Bi6TYRGS91PVbxLe3t0/vPJIQqj3Jr5evf%2BCt/w18Zavcab%2Byv%2Bzl8VPjFa2UrR3uv%2BCvCjDS42U4KrcXBTzGz0CrggEgkVL4e/4JIfB7XPENj4s/al%2BNvxK%2BNV1YS%2BfbaZ8RPE7T6RDP8A89I7KNVQDr8jF1IOCDX1JoehaJ4Y0e28PeGtGtdPsLOERWljY26wwwRjgIiIAqqOwAxR/wALGKfShH5VJv8AKEf/ACZ%2Bgm/DfIIWSqZnVfV8%2BEw8fRLnxNR%2BbdGC7SPj7/hF/wDgqt%2B2Zpl7qes%2BP9I/Z18G6sTBaeH7PSxqfib7EeGkluC6pazOpO3yyHjzyAVy3un7NH7Ev7M/7Jfh220f4NfC3TbS%2Big2XfiW6tUm1XUHP35J7pl8xyxJJGQoyQqqMCvV6K2w%2BV4ejV9tNupU/mm7tf4V8MfSKXTVnn5xx1m%2BZ4F5dhYQwmEbv7HDx9nGVlZe1ld1a7S2dac9XJqEW9CiiivRPiwooooAKKKKACiiigArxn9l/wD5Lf8AtHf9lmsf/UK8L17NXjP7L/8AyW/9o7/ss1j/AOoV4XoA9mooooAKKKKACiiigAooooAKKKKACiiigAooooAKKKKACiiigAqO7tLW/tZbG9t0mhmjaOaKVQyupGCpB4II4xUlFAHiH7P/AOwv4Q/Zz1i11rwn8ZfHWqSaZoun6BoaeILnTrgaZ4fsjMYNGhK2SMbfdMC00he8k8iEPcsIwKx/hp/wTo8F%2BB/A3xE%2BGHjL4%2BfELx54d%2BKMWqHxfpni8aKHurm/wst39rsdNtrtpkiCwRF5mSGJI0RVEUWz6HooA85%2BA37OOmfA/U/Efiu%2B%2BJnijxr4l8WXFq%2BueKPFz2Qu547aHybeBUsbW2t4441LkBIgzNK7MzFs1z/jj/lIX8L/APsjPjz/ANO3hCvZq8Z8cf8AKQv4X/8AZGfHn/p28IUAezUUUUAFFFFABRRRQAUUUUAFFFFABRRRQAUUUUAFFFFABRRRQAUUUUAFFFFABRRRQAUUUUAFFFFABRRRQAUUUUAFFFFABRRRQAV4z44/5SF/C/8A7Iz48/8ATt4Qr2avGfHH/KQv4X/9kZ8ef%2BnbwhQB7NRRRQBm%2BM/GPhX4d%2BD9W%2BIHjnX7XStE0LTZ9Q1jVL2UJDZ2sMbSSzSMeFREVmJ7AGuP%2BGf7U/wM%2BLPgPX/iV4X8YXFppXhSSRPFB8T6He6Jc6Pstkuma6ttRhgnt1%2BzyxzBpEVWjdXUlSDVL9tT4Q%2BKvj5%2ByZ8Q/g74Fe1Gt%2BIPCl5a6PHfSlLea6MZMUUrAErE7hUdsHCsxwcYPmHw4%2BGHxA%2BKviH40eK/j5%2By94h0bQvjBo0OiS%2BDr/XNJluF0%2B00preX7XJZ30kaSXcl1cQx%2BTJJtjt0eVoSwVQD0bwt%2B2v8APG3gXV/iD4UvfFt9a6G1p/aOmQ/DPXv7WWO6/49p49MNl9tmglG4pPHC0TCOQhsRuVg1n9uz9m3Q/hjp/xluNd8T3PhrUG1BZNT0v4ca7ejS2sJTDerqKW9k76WYJFdJBeLCUaKQHHlvt8L%2BAXwJ%2BPXw81n4qfHT4hfDL42%2BJk8YeDvDPgvSvCeteOvDtv4uFhpsmrSPdJd6VfWljaqDq22Mpdi6/cSzNIZJFUY%2Bp/s2/GWy/YAu/2WtV/ZY%2BJeqzeI9W8V32i2nhb4pWNjeaIl5fXctjH4gvm1WE6o7peb7rnUUmZZPPF2%2BJJQD7l0/ULDVrCDVdLvYrm1uYVltriCQOksbAFXVhwykEEEcEGvH/2D/wDkiGuf9lm%2BI/8A6mut13Ok%2BCvGs/wS03wDqXjhvD3iBPD1raXmveD7K1UWl0kSLJJaRXcE0CpuDbFkiZQpA28cecf8E6dJv9B/ZuvtE1XxPfa3c2fxb%2BIcNxrGpxwJc3zr4z1oGaVbeKKEO5G4iONEyTtVRgAA90ooooAKKKKACiiigAooooAKKKKACiiigAooooAKKKKACiivJv2m/wBuX9lf9jyG0P7QvxcstCutQt5JtO0wW81zd3SIcEpDAjvgt8oYgKTkZ4OMq9ehhqTqVpKMVu20l97PQyvKc0zzHQwWXUJ1q0vhhTjKcnbV2jFN6LVvZLVtI9Zrzj9qf9qP4X/sh/Cef4tfFKW8lg%2B1xWWlaRpUAmvtWvZTiK1toiR5krcnGQAFYkgA18zfD34M/tg/8FGLCT9oX4zftEfEH4LeDr%2Bdrj4bfD7wHeJp2oQ2gH7i%2B1G42s0ryD5/II2gEEFc4r0H4S/8E3bzRvjL4e%2BOn7S/7UnjD4vax4PEreELPxLbwQWGlzyBV%2B1LBECHnCqMSE8H5sbgpXyXj8xxdP8A2Wg0pfDOTjZL%2BZw%2BLbWK3lpflTP0BcJcHcPY22e5pGpOjf2uGoQquUppXVGOJs6F%2Ba0KtRXjStPk9tKKZxVx8CP2xf8AgpDfw3X7X%2BnTfCb4OLOk0fwm0nU/M1jxGqncv9qXUePIiJwTAmG7MFZVkr6v%2BG3wY%2BEXwb0tdF%2BE3ww0Dw1arEsfk6HpENqGVRgBvLUbvqcmulorswuXUMNN1G3Oo95ys5PyWlortGKS9XqfN5/xjmmeUIYOnGOHwdO/Jh6PNGlG9ryknJyq1HZc1WtKpN2SThFKCKKKK7z5MKKKKACiiigAooooAKKKKACiiigAooooAK8Z/Zf/AOS3/tHf9lmsf/UK8L17NXjP7L//ACW/9o7/ALLNY/8AqFeF6APZqKKKACiiigAooooAKKKKACiiigAooooAKKKKACiiigAooooAKKKKACiiigArxnxx/wApC/hf/wBkZ8ef%2BnbwhXs1eM%2BOP%2BUhfwv/AOyM%2BPP/AE7eEKAPZqKKKACiiigAooooAKKKKACiiigAooooAKKKKACiiigAooooAKKKKACiiigAooooAKKKKACiiigAooooAKKKKACiiigAooooAK8Z8cf8pC/hf/2Rnx5/6dvCFezV4z44/wCUhfwv/wCyM%2BPP/Tt4QoA9mooooAKKKKACiiigArxn9g//AJIhrn/ZZviP/wCprrdezV4z%2Bwf/AMkQ1z/ss3xH/wDU11ugD2aiiigAooooAKKKKACiiigAooooAKKKKACiiigAorzD9qz9rr4N/sefDweO/ixrErT3k32bw/4e02LztR1u7OAttawjmRySoJ4VdwLEZFeE%2BGtP/wCCynxx0lPimPiH8N/hHbXzNcaT4A1Hw1Jqd3Bbk/u4764J%2BWUrgt5YBBOCqnKjzsRmVKhW9jCMqk7Xagk2l0cm2kr9E3d9FbU%2BxyfgrH5nln9pYmvSwmGcnGFTETlCNSa%2BKNKMadSdTl055RhyQulKak%2BQ7f8Aa5/bY8WfDz4j6T%2Byn%2Byl4Gs/G3xi8QQi4TS72V107w7Yd9Q1KSPlI%2BRtjBDPkY5ZA8/7Iv7EOr/CXxvr37SH7Sfju08f/F7xXsTUvEa2HlWuk2iAeXYafG2TFCpGS2FZyASARzp/sPfseXX7MXhzXfGHxM8Wx%2BLPif471RtT8f8AjERFRdzZPlW8IYApbQqdqJgDknCghV90rDDYStiaixWM%2BJO8YdIdFdbOdt5O9m7Rta79XPOIsuyPBVMg4ba9lKKjXxKTVTFNNSkoydpU8KpJKFKKi6kYKpXcnJU4FFFFewfnIUUUUAFFFFABRRRQAUUUUAFFFFABRRRQAUUUUAFFFFABXjP7L/8AyW/9o7/ss1j/AOoV4Xr2avGf2X/%2BS3/tHf8AZZrH/wBQrwvQB7NRRRQAUUUUAFFFFABRRRQAUUUUAFFFFABRRRQAUUUUAFFFFABRRWb4y1LWNG8IarrHh3TftuoWmmzzWNngnz5ljZkjwOTuYAcetAGlRXxj/wAE4/F/il/HvhHT4vjT4n8bWXjv9nHw/wCOfFlx4j8T3Oprb63czsv2q3WeRxYx3Ye5H2WER26/YAIok2vuzZfhx8Vfi0Pj54Q/Yl%2BOnjiDQ7j4T694Q03xj4v%2BJerXttP8QJhJHDd6ZczyzS2Kae5aKeWzCRCeURxoZLJwgB9wV4z44/5SF/C//sjPjz/07eEKz/2GfFcZsfHnwY1Xwlq%2Bj%2BIPAPi9LDxFBqHxV1XxnBJLcafaXsT22p6pi5MfkXEW6B44vLcOQhV1kkzr/wAaeJPEP/BTbwX4d1b4R%2BIdCs9J%2BD3jhLDXtVudOe01oNq3hLL2y213LOgTaM/aIoD842hvmwAfQ9FFFABRRRQAUUUUAFFFFABRRRQAUUUUAFFFFABRTZ54baFri5mWONFLO7sAFA6kk9BWb/wnPgn/AKHDSv8AwYR//FUAalFZf/Cc%2BCf%2Bhw0r/wAGEf8A8VR/wnPgn/ocNK/8GEf/AMVQBqUVl/8ACc%2BCf%2Bhw0r/wYR//ABVH/Cc%2BCf8AocNK/wDBhH/8VQBqUVl/8Jz4J/6HDSv/AAYR/wDxVH/Cc%2BCf%2Bhw0r/wYR/8AxVAGpRWX/wAJz4J/6HDSv/BhH/8AFUf8Jz4J/wChw0r/AMGEf/xVAGpRWX/wnPgn/ocNK/8ABhH/APFUf8Jz4J/6HDSv/BhH/wDFUAalFZf/AAnPgn/ocNK/8GEf/wAVR/wnPgn/AKHDSv8AwYR//FUAalFZf/Cc%2BCf%2Bhw0r/wAGEf8A8VR/wnPgn/ocNK/8GEf/AMVQBqUVl/8ACc%2BCf%2Bhw0r/wYR//ABVH/Cc%2BCf8AocNK/wDBhH/8VQBqUVl/8Jz4J/6HDSv/AAYR/wDxVH/Cc%2BCf%2Bhw0r/wYR/8AxVAGpRWX/wAJz4J/6HDSv/BhH/8AFUf8Jz4J/wChw0r/AMGEf/xVAGpXjPjj/lIX8L/%2ByM%2BPP/Tt4Qr1SDxj4RupktrXxVpskkjBUjjvoyzE9gAeTXlfjj/lIX8L/wDsjPjz/wBO3hCgD2aiiigDx7/goOfHI/Yc%2BLB%2BG/8Aaf8AbH/CBan9n/sTf9u2fZ3837N5fz%2Bf5XmeXs%2Bfft2/NivAP2bF/Z88TaJ%2B0P8ACf8AY8%2BL/hfwZ8NPFOkra/DvWvBN5bpp1hqv9gqmqX2lpCyxutv5lhLMYDtW4EpciUymvuCigD81P2WV%2BBDeHvjXaeOZP2ZNA%2BCEnhDwdp2l32l3EWvfDuXxdHJqxurudrlbKG7uWU6O06K6kFbaM3DTK7jkfFHi39jfSP2AfCHwT%2BMrfCq%2B8beMPFHjrQ/g14t8Xva6b4e0e0fV7hp/EekPdSf8S7SrWJ7Z7SOCVpcLaW8E8gZbg/qzRQBzKTeKdL%2BEltL8MbjTvF2qQ6LB/ZFzruvNa2%2BrMI1CzS3cEFwVEg%2BcyJFJkngYNeY/8E6bjxLd/s3X114y0mxsNXk%2BLfxDbU7HTNRe7trec%2BM9a8yOKd4YWmQNkB2ijLAAlFzge6V4z%2Bwf/wAkQ1z/ALLN8R//AFNdboA9mooooAKKKKACiiigAooooAKKKKACiivOv2l/2qvgj%2ByR4Ei%2BIHxt8Vmwtru8Sz0uxtbZ7i81K5b7sFvBGC8rn2GAOSQOazq1qWHpOpVkoxW7eiR2Zfl2PzbG08HgqUqtWo7RhBOUpPsktXs35JNtpJtdN8Ufin8PPgp4A1T4pfFbxbZ6H4f0a2M%2BpanfPhIkzgcAEsxJCqigszEKoJIFfJf/AAvX9r7/AIKOa9Do/wCyU2vfBz4RwoZNR%2BKuv6Eq6t4hzkLFpdtN/q4T1%2B0Ng9MFSpjeLwR8LviZ/wAFN/jZa/HP9pz4Y694T%2BC/g27WT4e/C/xVZm2uvEN%2BACdV1O3JP7pc4ihbIIz/AAl/N%2B10RI1CIoVVGAAMACvHj9ZzduXM4UOlrqdTzvo4QfRJKUlq3FNJ/otX%2BxvDqEaTpU8VmtrycnGph8I2tIKC56eIxEVrOU5ToUZNQjGtUjKUfn39nv8A4Jpfs6/AX4gRfGnUbrxL4%2B%2BIEUbKnjn4ia9Jqd/Fu%2B8Yt%2BI4jyQGVA4BI3YJz9B0UV6mGwmGwdPkoQUVvp1fd7tvzbb8z4XOs/zviPGfWs0xEq1RJRTk/hitoxSUYwir6RhCEV0iFFFFdB5AUUUUAFFFFABRRRQAUUUUAFFFFABRRRQAUUUUAFFFFABRRRQAV4z%2By/8A8lv/AGjv%2ByzWP/qFeF69mrxn9l//AJLf%2B0d/2Wax/wDUK8L0AezUUUUAFFFFABRRRQAUUUUAFFFFABRRRQAUUUUAFFFFABRRRQAUUUUAcV4Q/Zt/Z1%2BH15d6h4C%2BAfgrRLi/1wa1fT6R4WtLZ7nUgHAvZGjjBe4AkkHnHL4kbn5jnE8KfsQfsW%2BA7fWLTwP%2ByF8L9Gi8RabLp3iCLSfAGnW66nZyuHlt7gRwgTROyqzRvlWIBIJFeoUUAc/8MvhL8Kvgp4VTwL8Gvhn4f8JaJHM80ejeGNFgsLVZHOXcRQIqBmPJOMnvXnPjj/lIX8L/APsjPjz/ANO3hCvZq8Z8cf8AKQv4X/8AZGfHn/p28IUAezUUUUAFFFFABRRRQAUUUUAFFFFABRRRQAUUUUAZXjNVfRo43UFW1OyVlI4IN1ECD%2BFfO/j7/gsj/wAE3fhf461r4aeOf2jfsOt%2BHdWudM1iy/4RDWJfs91bytFLHvjtGR9row3KSpxkEjmvonxh/wAgmH/sK2P/AKVxVqVzYqGMnFfV5xi%2BvNFy%2B60o2/E9zI8Rw3h603nGHq1otLlVKtCi076tudGspJrRJKNnrd7HyZ/w/L/4Jaf9HQ/%2BWTrf/wAhVreAf%2BCyP/BN74oeO9F%2BGngb9o37drfiLVrbTNHsv%2BEQ1iL7RdXEqxRR75LRUTc7qNzEKM5JA5r6dorkjRzpSXNWp2/69y/%2BWH0FbMPDOVGSpZbi1Kzs3jKTSdnZtLBJtJ2bV1dJq6vdeYftq/HvxB%2By1%2ByX8RP2jPC3gZ/EmoeCvCd5q9roiTxxC5aGMv8AM0joAigFnw27arbAzbVPLWf7dcFx8Rtd%2BFt5%2By98SLDVPCfgyHxL4wfULjw/Fa6HbTxag9tDNcHVfKeaU6dKgELSJGZYmleKMu6en/HD4QeEv2gfgz4r%2BBXj03Q0Txl4cvdF1ZrCYRzrb3MDwyNG5BCuFclWIIBAOD0rzjWP2EfAHjHwn8RPDXxN%2BJ/jHxRc/FHwXZeGvFet6nLp8F09vafbfJnjWzs4II5h9ukz%2B6MbeXHmP7%2B/1D4M5P4Xf8FP/gh8d7XwvqfwxubhBqPxTn8F61YK%2Bl6wYrqPw5e64FF3pmpzWio0FvGwmilusNmB4kcvJBvfs3f8FDvhp%2B0jpVrrFl8IfiJ4Wi1XwFpXjPw9F4j0CCafWNFv22RXMEOm3F3KCj7RJHIsciB1baUO%2BovB/wDwTq%2BHXh3xiPiL4m%2BM3j/xV4hf4hp4yvNY8QXmnK9zqCeHLjw6kZjtLKCGOAWVyxEcUcf71EbON6t0Pwz/AGLPAfwft/Cg%2BHvxA8VWN14N%2BFOn/D/R79prKWX%2BzLN4XSZxJatG1w3khWbaEwzbUU4IAD9pv4ufGTw74%2B8AfAv4AXfhnT/E3jm61OZtc8X6PcajY6fY2Fp5srfZre6tnmleWW2iUecgVZJJDv2CN5vg78YPip%2B03%2Bx34V%2BM3wv/AOEf8LeLfFfh2wvCmv6fPqmn6Zcsyfa0MUM9tJcomJ1jxLFuIQkqCRWx8f8A9nPSvjyfD2sW/wASPE3gvxF4U1Ga78P%2BLPCElmL60862ktp4tt7bXMEkUkUhDLJE2GSN12vGjLznjH9ijwlr/wCy7cfsheDfi/458F%2BD38Gad4Zsf%2BEUvrJL2ws7Vv3jxXNzazSNNcw4gneUyBowWQRSs8rAHnfhz9qD9o/xx%2ByjrXx8tvi38JfDFn4N1zxDDq/j3WvB2o3Wh%2BINN06aSKO/s7dNTiktYpDG4Lm4uRmImPzVdGqr8RP2/PjRp1v8FdM8KfCPTtK13xTeeDLj4w6V4iWaU%2BE7fXbmC0TTYzG8ZN%2BZZLhlZgyJHYSGSPM0Oeu8d/8ABPi2%2BIXww8C/CvWP2r/iVb2Pw%2B1%2BHVtFbTtL8LwRzPbxhLKCezXRfsUkFoVEsEYt12SrHISzRRFL/wAaP%2BCbX7In7Rc3h7xH8dPhB4d8U%2BLdC1LRr248fat4Q0h9a1d9NlikRLucWYVopTHtlijSNCruqLGpAAByHwF/br1r48/tKeIfAFl8QvC%2Bi6PY%2BL/Enhbw94W1DwBq/wBu1O%2B0aae1uZF1tp0095fNtp5/7PiiknW1Cys4y23S%2BEf7X3xT0X9nzx343/aDs/D2veLvCfxJ1Dwho2neBtKn06LxDfLPFBY2sMV1c3LRyzSzJGXaQoozIwRFbb1ugfsPfDvw78Z7X4uWfj/xW9npfirVPFHh/wAEyXFn/Y%2Bka9qNvc297qUIW1Fy0sqXt8SktxJCrXszLGpKlcj4Xf8ABO34T%2BFfCvizwH8cfGer/G7QvF/ig%2BI77RPjB4b8O31pbaoxYy3MMVnpVqoZ9y5Dhwnlr5Yjy%2B4A89tf2sf2u779gGL9rTV/HHwk8Nax4Zh8T/8ACawX/hDU72x1S607U7ixtbWwVNRiltzO1uU3Obl2kljCQsW2V6NqHx2/aH039qD4ReDNZ0nwzpnhD4j%2BFNQn1Tw9daVcPrelana2kdy6/bBciAxgyCMp9mLEqW8wcLXLW/8AwSa%2BBnhPwR4F%2BHXwR%2BJni74caN4B8Y6t4p03TfBum%2BH1tb7Vr2dpUuru3u9Kngme0DNHakRqYV2HLvFE6eg/EP8AZF1L4i/HL4f/AB2uv2pPiLpt38PLYxWWi6ba6B9h1MyALdyXfnaVJNuuY1WOTyZYVRRmFYWyxAPOviD%2B0Z%2B198Lv2kvFvw/XxB8NvF/h/wAMfB7W/HN7plt4TutDu7BhMYtEsZ9RuNWuLci5NvqPmTtBEqiwZgFDYTJ/ZR/a7/aZ/af8I%2BObOD4heBvD%2BpeFbXRNRh8TeJfg7rekRpbXlrNPcQzaJqGqwXgjj8pfL1ETrbz5lEaMYJDXtmvfsg/CLxfH8X7fxsup6xB8bNLXSfGMF7dqoj0tdN/s8WFs0SI0UGx7mbks4mvJ2DgMqpzEf7AnhLUfAXxI8I%2BP/jx8RfFOqfFPwfbeFfEvjHWL7TotVj0W3S7SGzt2s7KCCIL/AGhfN5nkmUtdyMZCQhUA8k179rD9u1P%2BCaXh/wDbP0vxV8L7HxXrGhm90vw5qHww1OWHxBPqd8sPhu0iQa5HJp8twtzYxzB2uCstw20KE2N6L8bP2iv2gvgf%2B0J8M/AV/rPhzWNK8b65p%2Bk3ulQfDPV7VYTJFILi6HiB719PhdZI2eKwli%2B0TLiNC7MHr1f4lfs/%2BBPiivgix1t7y103wH4qtNe0zRtNaOO1up7WCaO1inQoS0MMksdwioUImtYDuKqyNhfEf9liD4s/E3T/ABp48%2BOXje88PaX4g07XLL4chtMj0ZdQsWjltZi6WIvnCXEUdx5bXRjMqAlCo20AfLHhn/gqX%2B0deJ8RtQv/AAR4Vu5PDvw08YeJdL0W48O6hoqWN1o%2BpQ2cFsmqXly1r4jhkSV3mutPEcdu8McchVrqID3/APYJ/ab%2BIn7SGj%2BOofiLLp9zN4S8WxaXZanb%2BBtT8K3F5DJp1nd7rjRNWmlvbBle4eNTMw89EWZFCOpOJa/8EsfgY3h658FeI/iX491nQLfwnqfhzwdod/qtmkXhCwvrm3uZV0%2BS3tI5mdZLS08uS7kuXjW3VVIVnD%2BqfAX9nTS/gbeeJfEl38SfE3jPxJ4v1CC78Q%2BKfFjWQu7nyLdLeCIR2FtbW0UccaYCxwqSzuzFmYmgDr/Haq/gnV9yg40ydhkdCI2IP1BGa8u8cf8AKQv4X/8AZGfHn/p28IV6l45/5EnWP%2BwVcf8Aotq8t8cf8pC/hf8A9kZ8ef8Ap28IUAezUUUUAFFeYftp/F7xV8A/2TPiH8Y/A0dqdb8P%2BFLy60d76Ivbw3QjIillUEFokcq7rkZVWGRnI83%2BHvj/APag8KWvx8%2BCGleOpvif4y%2BH2h22ofD3WfE9hYWc%2BoXd7pUksFhdiwhtrchbyBsOscZ8m4jViWQyOAfS9FfFf7Ofx1/aA%2BLWpfFT4DH4m/Gq9v8Awt4A8K%2BKNL8Rar8PdD8P%2BKHvb%2BbV4rvS7a11PT4LAw79JVIpriHaTcTgXDKiTClbfHv9qrVv2PfAHxpvfjtreh%2BJNE/aJ0fwj4v0W40HRnu9U0%2B78f2WhNYavttXhhu00%2B4YSyaaYomnbzIJWi2FgD7hrxn9g/8A5Ihrn/ZZviP/AOprrdep%2BMvFuleBPC974v1u01Oe00%2BEyzw6Nol1qN0y5AxHbWkck8zc/djRm9q8e/4J0%2BIbDxb%2BzdfeKdKt76K21H4t/EO5t4tT0ueyuUR/GetMBLb3CJNA4B5jkRXU5DKCCKAPdKKKKACiiigAooooAKKKKACkdlRS7sAoGSSeAKWvjn9q34nfFb9s/wCOWq/8E7P2Y/EraHoel2ET/G/4iWp3SaZaz5xpFp2%2B1TJncx4RSw6q4rjxuMjg6SlZylJ2jFbyk9ku3dt6JJt%2Bf0fDHDlfiXMJUvaKlRpRdStVlfkpUotKU5W1bu1GEI%2B9UqShCKu245jfEL9oX/gpl8Z9Ysf2afjlrfw0%2BCvgW5m09/HXhyOM3vjDWFwHFszggWcIyN44cnPzZHlel/Av/gmz8Pfhf8XLP4//ABW%2BM3j34seM9Ktnh0LVfiLrKXcOjbz872cCoqwM3QtliO2Mkn2v4RfCfwF8C/hpovwi%2BF/h%2BLS9B8P2CWmm2UQ%2B6i9WY9WdiSzMeWZmY5JNdHXHh8pptqti/fq35m23yp9FGN%2BVKO0fdb05m7vT6POfEDGQjUy3h/8A2XAcrpRjGFNVp09pSrVlT9rKdbWVVKrGCUlSjH2cLSKKKK9g/OQooooAKKKKACiiigAooooAKKKKACiiigAooooAKKKKACiiigAooooAKKKKACvGf2X/APkt/wC0d/2Wax/9QrwvXs1eM/sv/wDJb/2jv%2ByzWP8A6hXhegD2aiiigAooooAKKKKACiiigAooooAKKKKACiiigAooooAKKKKACiiigAooooAK8Z8cf8pC/hf/ANkZ8ef%2BnbwhXs1eM%2BOP%2BUhfwv8A%2ByM%2BPP8A07eEKAPZqKKKACiiigAooooAKKKKACiiigAooooAKKKKAMvxh/yCYf8AsK2P/pXFXzt4/wD%2BCmv/AAgXjvW/Av8Aw75/ae1r%2BxdXubD%2B2NA%2BE/2mwv8AyZWj8%2B2l%2B0jzYX270fA3KynAzX0R4zZU0aOR2AVdTsmZieABdREk/hWrXNiaWJqxSo1eR9fdjK//AIE1Y48ZRxlaKWHreza3fJGd/K0mrd7o%2BS/%2BHsP/AFjU/a0/8M3/APdVa/gH/gpr/wAJ7470XwL/AMO%2Bf2ntF/trV7aw/tjX/hP9msLDzpVj8%2B5l%2B0nyoU3b3fB2qrHBxX07RXJHCZmpJvFXX/XqH/yRxRwOcqScsbddvY01fyvzaX2ucX%2B0X8VtU%2BBPwJ8WfGrSPBMviOTwnoVxq0%2BiW90YZru3t0Ms6xMEfMoiWQom353Cpld24eIfEr/gpCdGstfv/hH8ONI8TxWPjqLwz4YL61q0kniiRdIi1G8msrfR9H1K5kS385YWKwsm6Kcu8QjUP9QXFvBdQPa3UKSRSIUkjkUFWUjBBB6gjtXimjf8E6f2P/DPwc8J/AXwn8Mb7RvDXga%2BvLvwtBonjDVrK7spLszG6H22C6W6lSb7RKJI5JWRwwDKQqgeoeyeKaJ/wUW8TfETxnYfEXwpLq0Pgrxd4A%2BB2teHvD%2BLO3udOm8WeKNasLwzSyW0xfMEFmkkXHFuwhkgeQzVsfDH9un4/wDxj/aO%2BGt3p3wiTTPhx44%2BHPjPxD4ZsNM8Q215qPiRLC50mOya4juLe3XTp2S5dkiW5kiIucTSI0YA9j8MfsG/sn%2BDNF0nw74Y%2BEyWlloWjeEtJ0m3TWr4rb2fhm%2Bnv9DiGZzkW1zczSZOTLv2ymRVVRD4S/YE/ZY8CfECb4oeD/A2rafrT6Zq%2BnWdxb%2BNtYEWlWupyxzX0Wnwfa/K01ZZYo5D9lSLa6Bl2tzQBH%2B1/wDEP4k6Jp/w0%2BHPw38X3ng/UfiX8Rrbw9d%2BJbaztLm70W2GnX%2BpTNClzHPbGZ1082ytJHKitcbtrECof2VvG3xU%2BOn7LWpW/if4lT2vinTfFXizwifG1lplqJpn0jXdQ0mPUhA0ZthO6WaTOnl%2BSJWcBNgC16F8WPgh8Nvjd4ET4dfEnSLy806G6trq0mtNau7K9tLm3dXhuILy2ljuYJkZQRLHIr8kbsMc4M37I3wHl%2BDkn7P8PhvVbXwhP4Wv/D1zo9h4t1O2E9lesGumkkiuVkkuZGDMbtmNzmWYiUGaXeAfKuqftc/tI6D8JHsfAXxI8YePtJ8a/Hu18FfDD4lWPhzRDrup6WNJa7vbq1iMNtpcw%2B2WV/Z215NDHb7WWdxLEgkm5n9rX/gqvpXwp/Z98L%2BEPhx%2B1rB4Z8ZpLNf%2BKte%2BLP8AYVjra29hr7aVd6Z9kWNLOW8e7huoHe2ieJLewuZVZWkt5W%2Bv9H/Ye/Z40P4Rf8KMtdN8WT%2BHI7u0utOh1D4l69d3elS2oUW7WF5Pevc6f5YRQotpYgBkYwzZ27f9lv4E23wM/wCGbovA3/FGmUyzaW%2BqXTSTzNdm9knluTKZ5ppLotPJK8jPLI7s7MWYkA%2BX/E3/AAU18LeLf%2BClfw8%2BAfw2/an8C2XhFPE154Z8QeFxrWmy6h4k1GTRLi9inCuzTw20UwsYIHi2faJ5rhDvVIt%2Bsf2tvFX7K2u/GDxb8Tf2itU%2BJvw9%2BG3hnTodX8ReKbLR9LjtPGNzdmFNEt7uztrWBYys9kJmuN4tWuIfMn5lCfVnij4Y%2BB/Gfi3wz468S6H9p1Xwff3F54cuvtMqfZJ57WW0lfajBZN0E8qYcMBuyAGAI4r9mz9jX4EfskadJovwLtfFljp8iSr/AGZrXxJ13WbWNpJmnlkjg1G9njjleV3d5UUO7OxZjuOQD5B8LfthfHz4r/8ABMb4rfHDwN%2B3foms%2BOvhh441%2BS58V/Dux0O%2Bsru2tZpTb2Ajkt540s2R4ykhX7S8MaEzFmaQ/TX7Tnij4veBP2mPgDeeDvjFqOn%2BG/FnxEuvDXijwbHpVhJaanD/AMI5ruorM88tu11HIk1hbbfJljXCsGDhuN/4lfsR/s4/Fj4Ua78EPF/hfW4/DPifxHea54h0/Q/HGr6U2oXl07vcGWayu4pWikaRmNuX8nO35PlXEHxB/YZ%2BAPxRfwRP42uPiBczfDqUTeErqD4x%2BJraa2nEMsH2iWSHUUe7nMM88RnuDLI0c0iFirsCAeWaT8cfjF8G/wBr3xM37Wfj34i6D4G1rxTqFt8LvN03w0/hO8srbQlv5InltoX1eK6UWeqzg3DxxOLfapb5Ubi/2GP23PE/7e/xT%2BMvgvwp%2B2N4ft4r7wz4e13wBpvgm60TUb/wbZXMt9HKjZSdZrryobJ7hbgTJb3F00SjYE3fUVp%2Byt8GLf4yQ/Hu603XtQ8SWd3cXWlvrXjXVr%2Bx0u4nheCWaysLm6e0spGikljLwRRtsmlXOJHDaGv/ALP/AMMPEWr%2BLPEU%2Bn6rZan420mx03xHquh%2BJtQ067mtrMzm2WKe0njktWQ3M37yBo3O/ljgYAPlfw98fv2rvH37Ff7MvxQvfiJ48tIPG3w5s9T%2BJvjv4b/D201vWW1SXSbea1X7Athcww29xO85lkjtQsbJEu6BHLitr37VH7UfiT9lf9n79tTQfEPi7R18b6L4QufHOlWdh4ffwjpK3l1ZC9udRM8b6uEmiu5UhawkkSNoonl8uPzJH990D9gD9mvwt8CtH/Zr8O23juy8GaCdulaVb/F/xMrxQeSIBZm4/tDz5LMRgKLR5GtwBxGDzWv4s/Y0/Z58ba3oureIfCuqvaeH4tPj0vwza%2BL9UttBRbGRZLQPpENythN5TpGyGSBiDFH/AM80wAfNnwf/AGlP2p/HP7Yi%2BDPFPxI8SWHgnxV438deGND1hNK0JvD9w2mPcrZw6M6QPqI1OBLS4a5OpKbOR7K98gSqIhWbrHxo/a48HeBvjBrXgz9p3xl42sbX4zeHPAHw%2BfUNE8NJrd1JFcW0eunSzFp1rZSXTS3NzaR/blaCKTS5HdkQu1fU3g79jX9nTwF8Wpfjb4W8D3cGvPqOoahAs3iTUJ9Psr2/Znvru10%2BWdrO0nuGeRpZoIUkkM0pZj5r7pr/APZD/Z71H4LR/s/TeBZo/DEOsvrFtBaa5ewXltqTX76g19FfRzLdRXJu5Hn89JRJvdju5NAHDfsafFP4m/Fj9krX9S%2BMetX934k0fXvEujahFrlnaQapZpa3tzHbwagtiq2bXi24h8x7QfZnJ3RM6MHbd8cf8pC/hf8A9kZ8ef8Ap28IV1Phv4PfDj4DfBTU/h/8M9FlsdNEF/dSG81K4vbm7u7lpJZp57m5kknuZpJXZmkld3YnkniuW8cf8pC/hf8A9kZ8ef8Ap28IUAezUUUUAZnjTwb4V%2BIvg7Vvh9460C11XRNd02fT9Y0u9iDw3lrNG0csMinhkdGZSO4Jrifhd%2ByX8Evg3p13pvgDT/EUH9ozzzard3/jvWL661GWW3htjJc3F1dSTXLJBbwxRNK7GBIwIvLFek0UAeUaL%2BxX8BPD3gzV/BOjweMYF17UIL3WNeHxQ1865dywqEh36ub46gURBsWPz9gVmULhmBzfGP8AwT6/Zb8c/CbRfghrHhrxRbeG9B18a7Z2uh/EvX9Mnn1QXy6gL66ubO%2BinvbkXqJdCa4klcTqJQd/zV7TRQBX0nTLbRdKttGs5Lh4bS3SGJ7u7kuJWVVCgvLKzPI2By7sWY5JJJJryH9g/wD5Ihrn/ZZviP8A%2BprrdezV4z%2Bwf/yRDXP%2ByzfEf/1NdboA9mooooAKKKKACiiigAorhPj/APtN/AT9lnwevjz9oD4oaZ4Y0ySXyreS%2BdmluX7pFDGGkmYDkhFYgcnAr5n%2BIf8AwVy8IfGPRF%2BFv/BPfwj4g8c/EbxJL9j8PS33hi7sdM09WB3ajcTXMSDyYh82P4jgHAJrz8XmuX4KThVqLn/lWsn2Sirtt9Nv1PsOH%2BAeL%2BJqUcRgcHN4duzryThQhb4pTrS5YRjBXc3eVktm2ove/aL/AGiPjx%2B0R%2B0PN%2Bw7%2Bw94vTw9daDEtx8WfikdOS6j8NwyKfLsbZH%2BSS9k69fkAOCGVzH7N%2Byd%2Byh8Ov2QfhpN8P8AwHf6lql1qWqT6r4j8Sa7cCbUNa1CY5lubiQAbmOABxwAOpyxofsR/sn6L%2Bx/8DrX4drrDaz4i1G7l1Xxt4nmyZta1ec7ri5dm%2BYjPyrnkIq5ySSfXqywODqOf1vFa1XeyvdQT%2BzHpe1uaW8nfXlSR38VcR4Onhnw9kLtgKbjzTUVGeKqQvevVdudxcnJ0KTahSp8nuurKpMKKKK9U%2BACiiigAooooAKKKKACiiigAooooAKKKKACiiigAooooAKKKKACiiigAooooAKKKKACvGf2X/8Akt/7R3/ZZrH/ANQrwvXs1eM/sv8A/Jb/ANo7/ss1j/6hXhegD2aiiigAooooAKKKKACiiigAooooAKKKKACiiigAooooAKKKKACiiigDmPDnxt%2BDHjH4g6z8JPCPxd8Mar4r8OIr%2BIfDOm6/bT6hpatja1xbI5kgB3LguozketV/Df7QfwD8Y/ErU/gx4R%2BN/hDVfGGio7az4T03xLaz6nYKpUMZrVJDLEAXQHcowWX1FfIH7PHh7xn4M%2BNngDQPEHwg8a6dqXw08VfEe88feJm8D6i1pqNtrOsu9p9mukgKaj9see1vWW3aXyFtGNx5LRgV12seOvFHx1/bik0jw18JfE/hn/hUCa4nw5n8SfDDXbTSvFPiW60%2BWOa%2Bm1VLI2sOlxpJLEuJTJdzyPIq4htzOAfVGg/ET4f%2BKfE%2Bt%2BCfDHjnR9R1nwzNBF4k0iw1OKa60qSaITQpcxIxeBpImEihwpZSGGQc15j44I/4eF/C8Z/5oz48/wDTt4Qrxf8A4Jm/BL9p74IftCfFzTfjz8JNC0uPVNG8O3V74u0fxZe6mviPWCL2S8uhJPpVkjtJLNJJIqcQFoolUpt2Vf2vf2Vfi1%2B0d%2B3/APDyw179pOfwodK%2BGXjfU/hxq/w/0WfTtS0aZdR8Kxul9NJezR6lE4kAMaxWwwpBzu4yrzq06TlTjzSWyulf5vRfM7ssw%2BBxWPp0cZX9jSk7Sqckp8mj1cItSkr2vy62baTas/tiivjSz/bS/aq/YhuY/Cv/AAUa%2BGp17wijiK0%2BOXw/055rPbnAbU7JBvtG6ZdF2FiFRWwWr6t%2BGvxR%2BHHxk8H2nxA%2BFPjjS/EOiXy5tdT0i9SeF/Vdyk4YdCpwVPBANc2EzHDYuThG8ZreElaS%2BXVeacovue3xBwdnXD1GGKqKNXC1HaFelL2lCfkppe7O29OpGlVj1h1N6iiiu4%2BWCiiigAooooAKKKKACiiigAooooAbPBDcwtb3MKyRupV0dQQwPUEHqKzf%2BEG8E/8AQn6V/wCC%2BP8A%2BJrUooAy/wDhBvBP/Qn6V/4L4/8A4mj/AIQbwT/0J%2Blf%2BC%2BP/wCJrUooAy/%2BEG8E/wDQn6V/4L4//iaP%2BEG8E/8AQn6V/wCC%2BP8A%2BJrUooAy/wDhBvBP/Qn6V/4L4/8A4mj/AIQbwT/0J%2Blf%2BC%2BP/wCJrUooAy/%2BEG8E/wDQn6V/4L4//iaP%2BEG8E/8AQn6V/wCC%2BP8A%2BJrUooAy/wDhBvBP/Qn6V/4L4/8A4mj/AIQbwT/0J%2Blf%2BC%2BP/wCJrUooAy/%2BEG8E/wDQn6V/4L4//iaP%2BEG8E/8AQn6V/wCC%2BP8A%2BJrUooAy/wDhBvBP/Qn6V/4L4/8A4mj/AIQbwT/0J%2Blf%2BC%2BP/wCJrUooAy/%2BEG8E/wDQn6V/4L4//iaP%2BEG8E/8AQn6V/wCC%2BP8A%2BJrUooAy/wDhBvBP/Qn6V/4L4/8A4mj/AIQbwT/0J%2Blf%2BC%2BP/wCJrUooAy/%2BEG8E/wDQn6V/4L4//iaP%2BEG8E/8AQn6V/wCC%2BP8A%2BJrUooAzYPB3hG1mS5tfCumxyRsGSSOxjDKR3BA4NeV%2BOP8AlIX8L/8AsjPjz/07eEK9mrxnxx/ykL%2BF/wD2Rnx5/wCnbwhQB7NRRRQB5/8AtV/Gq5/Zz/Zv8bfHHT9BTVbzwx4cur7T9MlmMUd3dKh8iF3AJRGlKKzgEqpJwcYrzfwb%2B0n%2B0H4W8NfGzwn8U/C2h%2BNfHfwl0OPWNLh8B6Pc6db%2BJYbjTHura2jtp7i7khnNxBcW%2BPNkDARyAKXMa%2BzfFz4WeDfjh8LPEXwb%2BIdhJdaF4p0W50rVoIZmika3niaN9jrho3AYlXUgqwBBBArifg9%2Bymnwfu9b16L49%2BOvEOveJ52m8S%2BI/EH9lNd6iy2kVra7hb2EMUS20cWYkhjjUvJK8omZ2NAHiX7Pn7d/xK%2BPWl/EjwN4T%2BOPw08R%2BIPBPg7w94pj8beBfhvq%2Br6WlvqMmoLNpv8AZVvqT3d3ewHS5gRDcK5NzEpgV43iOZ4Q/bz/AGsPjH8P/DGnfCjSfAlj4tuvDPjjxDq1/wCJfDWopaX1poGrxabb266ebyO60q4vTOkjx3MkstgY5IpYZZBge5eHP2Pr7wzZeI9Zsv2pPiRL448Uvp8eqfEu4j0JtW%2Bx2Xmm2sUh/ssaeluhuLpggtMl7qVyxdtw5nWf%2BCavwx1DwlYaJovxp%2BImia1CniGLW/Guk6lYLquvQa7cR3OrQ3TSWTwIs80MDg20MDwGCMW7QgYIB6p4M/aA%2BHXiL9nfQf2mvE/iCx8MeGNa8KWOvzX/AIg1CK2g0%2B2uYI5l86aQqiYEigsSBmuD/wCCdPifw141/ZuvvGHg3xDY6vpGqfFv4h3emappl2lxbXcEnjPWmjlilQlZEZSGDKSCCCDXs3hfwzoPgvw1p3g7wrpcVjpek2MNlptlAMJbwRIEjjX2VVAHsK8n/YP/AOSIa5/2Wb4j/wDqa63QB7NRRRQAUUU2aaG2he4uJljjjUtJI7AKqgZJJPQUAk27IdXB/tCftO/Ab9lXwSfiD8ffiXp3hzTWZktjduWmu5AMmOCFAZJnxztRSQOTgc14b47/AOCtXwiute1XwN%2Byl8HvH3xv1vTA0U8/w78PtcaTbXODsjnv2IRFJx%2B8jEi4PGSMVJ%2Byr%2Bw54t1rx2n7ZP7edxaeKvi1qCb9J0Z8S6V4ItidyWdjESU81f45%2BTuztYktJJ488zeKn7HL7Tl1lryR9Wrcz7Ri3fq4pH6RheBo5Hhv7R4u58NRsuSiuRYqu2rpRhJydGnaznWr04pJpU6dWcklz/7DXwHvf2nviTrP/BSX9qf4eMdc8RXvlfCfw14httx8K6BCWWCRYn4S5nJMrPjIyGUjzCK%2ByqKK7MDgqeBocid5PWUuspPVt%2BvRdEkloj5viniXF8UZo8TUj7OlFKFKkm3CjSgkoU4X6JK8nZOc5TqSvKbaKKKK7D5sKKKKACiiigAooooAKKKKACiiigAooooAKKKKACiiigAooooAKKKKACiiigAooooAKKKKACvGf2X/APkt/wC0d/2Wax/9QrwvXs1eM/sv/wDJb/2jv%2ByzWP8A6hXhegD2aiiigAooooAKKKKACiiigAooooAKKKKACiiigAooooAKKKKACiiigAooooAK8Z8cf8pC/hf/ANkZ8ef%2BnbwhXs1eM%2BOP%2BUhfwv8A%2ByM%2BPP8A07eEKAPY7q1tr22ksr23jmhmQpLFKgZXUjBUg8EEcYr5W%2BJP/BL7QvC/jC6%2BNH7BvxV1H4JeM7h/MvLXQ4RN4f1dhztutNb91g9A0YAXJbYzV9WUVyYrA4XGxSrRu1s9pJ94yVmn6P1TPfyDijPeGa055dWcYzVpwaU6VSP8tSlNSp1I%2BUoNreMovU%2BPLL/goj8c/wBlu6i8Lf8ABSv9ne58OWQkEUXxZ8AQy6n4cuecB5kUGeyJPRXDEnJCqK%2Bo/hl8WPhl8aPCcHjv4SePtI8SaPcj9zqOjX6XEROOVJQnawzypwQeCBW5d2lpqFrLY39rHPBNGUmhmQMkikYKsDwQRwQa%2BX/iZ/wSm%2BDE3i2f4s/so%2BNtf%2BB3jaU7n1b4fz%2BVYXbckLdacSIJo8kkoojyeSTXF7PNsF8D9tDtK0Zr0lbll/28ovzPp3ivD/if/eqbyzEP7dJSrYWT7youTr0L9fYzrQXSmlofUlFfHg/aH/4KV/slf6L%2B05%2Bzpa/GTwrb8N47%2BEKbNUjjH8dxpUmPMfGSfJKxqB1Neufs6f8ABQX9kX9qWYaR8J/jJpz64GKT%2BFtYzYapDIOGQ2s4V2KnglAy571tQzXB1qipSbhN/ZmuV/K%2Bkv8At2Ujzs04A4jy/Byx9CEcVhY718NJVqaX9/kXPS9K1Kk13dj2eiiivSPigooooAKKKKACiiigAooooAKKKKACiiigAooooAKKKKACiiigAooooAKKKKACiiigAooooAKKKKACvGfHH/KQv4X/APZGfHn/AKdvCFezV4z44/5SF/C//sjPjz/07eEKAPZqKKKACiud%2BLnxS8G/A/4W%2BIvjH8Q797XQvC2i3OqatPFC0si28ETSPsRctI5CkKigszEAAkiuD8Eftm/D3Xvh54/8ffEXwZ4l%2BH0vwutZLvx1oHjC3tTe6ZaLYrfrc/6BcXMM0T25LK0UrnckkbBZI3QAHr1FeJeEv21G8Z6TrtrpX7L3xLTxfoVppV9N8OrlNFTV59O1Jp1s79G/tL7GkDtaXinzbmORWtJVZFbaGxbr/go98OJfDOian4U%2BCvxC8Qa3qsPiSbUPB2k2GnjU9Fi0C%2BjsNYe68%2B9jtz9nu5YodsE0zTGRWgWZcsAD6Hrxn9g//kiGuf8AZZviP/6mut16p4O8X%2BG/iD4Q0rx74N1eLUNH1vTYNQ0q/gzsubaaNZIpVzzhkZWHsa8r/YP/AOSIa5/2Wb4j/wDqa63QB7NRRXhf7Qf/AAUr/Yi/Zb8bT/DX43fHiy0nxDb2iXE2jwabd3k6K67kDC3hcIzDBCsQxDKcYIJwxGKw2Ep%2B0rzUI95NJfierk%2BRZ3xDjPqmV4apiKtm%2BWnCU5WVru0U3ZXV27JXWp1vx9/a7/Zq/ZbOmJ%2B0D8YtH8LPrAlOmRajI2%2B4Ee3eVVFY4XeuTjGWAr5e8UePvGv/AAV68bQfCv4Ov4m8N/s6ab%2B%2B8beNWtJtOn8cPuIXTbEuFf7KcZlkwCRlSF%2BUPtfsfeDJ/wBtP9qLx3%2B3x8X/AIZXsHhhLCHwp8IdE8X6KY3GmR4mudQ8iYcGeZvkfGQu9ckCvsu2trezt47S0gSKKJAkUUahVRQMAADgADtXjwhic6g5Tko4dt2ik1KcU7LmbatGVm7JJuNk3aTv%2BjYmvknhniY0cLSlVzenTjzVZzhKjhq0480lSpxjLnrUFKMOepUlCnW55Rg504uOL8Nfhl8P/g74J0/4cfC7whYaFoelwCGw0zToBHFEo9h95j1LHLMSSSSSa3aKK92MYwioxVktkj8pr16%2BKryrVpuc5NuUpNttt3bbbbbbd2222woooqjIKKKKACiiigAooooAKKKKACiiigAooooAKKKKACiiigAooooAKKKKACiiigAooooAKKKKACiiigArxn9l/wD5Lf8AtHf9lmsf/UK8L17NXjP7L/8AyW/9o7/ss1j/AOoV4XoA9mooooAKKKKACiiigAooooAKKKKACiiigAooooAKKKKACiiigAooooAKKKKACvGfHH/KQv4X/wDZGfHn/p28IV7NXjPjj/lIX8L/APsjPjz/ANO3hCgD2aiiigAooooAK8l/aK/YW/ZO/ashL/HD4J6Pqt%2BFAh12GI2uow4%2B7tuoSkoAIBClivHINetUVlXoUMTTdOtFSi%2BjSa/E9DK82zXJMZHF5dXnRqx2nTnKEl84tO3dO6fVM%2BQB%2BxV%2B3b%2BzZ/pP7F/7blx4h0eDmHwD8brZtTt9o6Rx6hCBcRIB8qoABjGW4zSj/gpX8ZvgN/oP7eX7EHjLwbbQ8TeNvBIHiDQto/5ayPB%2B8tlPZGDt619fUV5v9lToa4OtKn/dfvw/8Bk21/27Neh9p/r5h8204iy6ji296sV9WxHq6tCMYTfnVw879ZPU81%2BBP7Yv7Ln7TVolz8Cfjr4c8RyMm82FnqCpeRrjOXtpNs0f/AkFelV4Z8dv%2BCbP7E37RV2%2Bt/EP4BaPFrLP5i%2BIdAVtM1BZeokM9qUaRgeRv3D2rzcfsK/ttfAj99%2ByH/wUK1690%2BH/AFPhD4y6emuWzDtGL1QtxCg6AIpOO/FH1nNsP/Goqou9N6/%2BATs/umxf2L4f5xrl2Zzwk3/y7xlO8fRYjDKcfnUw8PO2p9d0V8iD9sz/AIKE/Av9z%2B1H/wAE9rvxNYQ/6/xT8EdYXVFkx1K6dORcKO%2BWYV1Xwu/4K1fsG/EzVP8AhGL342weD9dRglzoPxAs5dFuIHPRGa5VYi3srmrhnOXSkoTnyS7TTg//ACZJP5SZz4rw14yo0JYjC4b61RWrqYWcMTBLu/YynOP/AG/Sh566H0jRVXRtb0XxHpkOteHtXtb%2BzuF3QXdlcLLFIvqrKSCPoatV6aaauj4aUZQk4yVmt09GvVOzQUUUUyQooooAKKKKACiiigAooooAKKKKACiiigAooooAKKKKACiiigAooooAK8Z8cf8AKQv4X/8AZGfHn/p28IV7NXjPjj/lIX8L/wDsjPjz/wBO3hCgD2aiiigDz/8Aar%2BCt1%2B0Z%2Bzd42%2BB2na9HpV54n8OXVjp2pzQmWO0umQmCZ0BBdFlCMyAgsoIyM5rz34R/Az49S%2BKPiR8Rf2gPAPw9ub34n2cNhq3hrS/E93fadaWFnYfZ7e3aSfToWvBcSz3jTFo4hFHJGirOVZj9BUUAfFHgX9iD9rf4JeEfih8Sv2ddN8C%2BFPiZ470Tw74Z0TT9U%2BKOueILDQtJ02a9ZrpdU1KwkuJbrZqVyIIDa/ZYfItl2uokD6/j/8AYZ8feIv2Z/Bvwp8Lfs7fD6w8Q6DYaxpw1Cb41eIFOmR37Bri5e9tNNgudc%2B1ygXN5Z3IgiupVHmSOcSD7AooA4PwB%2Bz54Q8B/s2eHP2X7bV9ZOh%2BHPCFh4dt73T9audNvmt7S3jgR1ubOSOaGQrECWjdTyea4f8A4J0%2BHrDwl%2BzdfeFtKuL6W2074t/EO2t5dT1Se9uXRPGetKDLcXDvNO5A5kkdnY5LMSSa90rxn9g//kiGuf8AZZviP/6mut0AQ/t1/tan9lH4TQXnhLw4/iHx74s1BdE%2BHXhWFSz6nqkvCbgCCIo8h3bIGAFyC4NVP2F/2N7f9mT4bXOp/EfUovEvxK8Yagda%2BIni25jDyXupPljHGxGVghyUjUYH3mCrvIHl3wFni/ba/wCCjfin9qAN9s8BfBO1m8H/AA8nxmC81uYA6pfRHodikW4YZVlZGHSvsivFwcVmGKljZ6xi3GmullpKfrJppPpGOnxNv9M4kqy4QyClw1h/dr1o062MltJykuejhn1UKNOUKlSH2q9W81%2B6iolFFFe0fmYUUUUAFFFFABRRRQAUUUUAFFFFABRRRQAUUUUAFFFFABRRRQAUUUUAFFFFABRRRQAUUUUAFFFFABRRRQAUUUUAFeM/sv8A/Jb/ANo7/ss1j/6hXhevZq8Z/Zf/AOS3/tHf9lmsf/UK8L0AezUUUUAFFFFABRRRQAUUUUAFFFFABRRRQAUUUUAFFFFABRRRQAUUUUAeM/C39t34cfFf4wf8Km0nwP4p0%2BC9utbtfC/i3VLW1XSvEc%2BkXQtNSis2juHnDQzbgPPhhEyxSSQmWNC9X2/astNN%2BOWn/A/xl8DvHHh9tfvb%2By8I%2BJ9Ui01tN8QXVpBJcyw2/kXslzExghnkQ3MECusLYY/KG8n%2BE37IP7SHw2%2BJvhlrxfBF94R%2BGWu%2BKtT8DSR%2BIryLUNWbW795FS9jNi0doLO0uruLMb3H2qQROfsw3Cug8M/CD9rzUv20dc%2BPHxd8G/DvVfD2nWt5pfwsmtfH1/5/h7T3iUtK%2BntpIjkvbueONZ5/tR8mBUihB2ym5APQPgl%2B09ZfF74h%2BIvhD4h%2BD/i7wJ4r8NaRp2rX2geLn0yWWTT76S7itrmOXTL27hKtJY3SFGkWRTFkoFZWbI8cf8pC/hf/ANkZ8ef%2BnbwhWD%2Byf%2BzX8Rfhj8dvH/xy8W/C/wCHPw8g8badp6X3hD4Z6rNfW2papDPeS3GtXc8thYhruZbmOIkQlmWAGSWT5FjZf/DHw34O/wCCm3gvxnpOpeIZrzxD8HvHEl/Dqvi7Ub60iKat4SwLa1uZ5ILIHccrbpGGwNwO1cAH0PRRRQAUUUUAFFFFABRRRQAUUUUAFct8UPgd8GPjbpX9ifGL4UeHPFNqFISHX9GhuwnuvmKdp9xgiupoqJ04VYuM0mn0aTX3O5vhsVisFXjXw1SVOcdVKMpRkvSUXFr5NHyfrP8AwR1/Ze0bU5vEf7OXi/4g/B3VZX8xrv4ceNbm1jkf/bhmMiFexRQoI44qt/wov/grf8Ffm%2BE/7YvgX4pWEX%2Bq0r4p%2BEWsLhU/uC608lpX9GfAyeeK%2BuaK8x5LgIu9FOk/7knD8E3H/wAlPuY%2BJ3FtaKhmU6eNitLYqlTxDt29pOMay%2BVf0Pkf/hvH9tj4Sfuv2mP%2BCZXjCa2i/wBZrnwn1q28Qxyju4tVKSxj2Zs45rb8Df8ABYT9gTxbqo8M%2BJPjDN4J1pSBPo3j/RLnSZYCf77zIIR/387V9O1ieOfhp8OPifpR0L4lfD/RPENkQQbPXNKhu4jnr8kqsP0o%2Bq5rR/hYhSXapBP/AMmg4v8ABj/t/gHMf9/yeVCT%2B1hMROK9fZYmNeHyVSK9EHgb4mfDj4n6WNc%2BGvxA0TxDZEAi80PVYbuLnp88TMP1rbr5j8c/8Eef%2BCf3i/VD4j0L4KN4O1hSTBq/gXWrrSZYCf7iQSCIf98Vif8ADvH9qv4ZfP8As1/8FQviXp8UfMWnfEfT7TxPDj/nnunEbIvYEZIFH1rNqX8TDqXnCa/9Jmov/wAmD%2BwvD7MP9yzidB/y4rDTS/8ABuGnWj83SXoj63or5I/tn/gtJ8KDjUPBnwU%2BLFjH906XqN3oepTf73nZt1J9qP8Ah5Z8b/h58n7SH/BMv4xeHtn/AB8Xvg63t/E1pD6s01syYX3waP7ZwsP40J0/8UJW%2B%2BKmvxD/AIhrnuJ1yyvhsWunscVRcn/3Dqyw9S/lyvtqz63or5h8G/8ABY3/AIJ5eLNQ/sPVfjwvhjVFIE%2BmeMdEvNMkhPo7zRCMf99mvdPh78dPgl8W4ln%2BFfxh8LeJUZcq2geILa8yP%2B2TtXVh8xwGLdqNWMvSSb%2B69/wPCzfg7i7IFzZnl9eiu86VSMfXm5HBrzU7Ppc6qiiiuw%2BbCiiigAooooAKKKKACiiigAooooAKKKKACvGfHH/KQv4X/wDZGfHn/p28IV7NXjPjj/lIX8L/APsjPjz/ANO3hCgD2aiiigCO9vbPTrOXUNQu4oLeCJpJ55pAqRooyzMx4AABJJ6Vz3wz%2BM3wf%2BNXhA/EL4N/Fbw14t0ATSRHXPDOu29/Z%2BZH99POgdk3LkZGcjvXD/t9/D7xp8Vv2KPin8OPh5o0up6zrPgbUbWy0iBwr6mWgbdZqWIUGdd0I3EL%2B85IGTXkPw58P%2BH/AI%2Bar%2B0OdW8AfELwv4F%2BMOiQ6Pp0d14C1TSdQuPs%2BhLaahfLb3FsslrIY5oLaEzIjTNYHylkRFYgHvFl%2B13%2ByfqPw21D4y6f%2B0/8PJ/CGk3wstV8Vw%2BNbBtNs7k7QIZboS%2BVHId6fIzA/OvHIqbxN%2B1T%2BzB4K8BaP8VfGX7R/gLSfC/iJgvh/wASan4wsoLDUyVLAW9w8ojmJUE/Ix4BPavjv4SeO/jl8CJfi7%2B134h%2BGvjP4m6evgzwT4U8A6DpHwI1jw3dalqlhcasGuBo8sdxfQQRpqVp51%2BYsFYZvKhKQRRtynxJ%2BCuuad8L/hpqGh6x8YtOjvvDPxMm8UePfAHwU1JtTOva9qNne3GknQr/AE6aay027ne7eOaS3R0XTrdRdxGZpJgD9KoZobmFLi3lWSORQyOjZDA8ggjqK/Onwd%2B0n8afi7oXjD/gn7%2BxJpyf8JjJ8UfiGfiF8QL1mWx8E2Nz4y1vaQVw0l7JG26NF%2B7lW5wxj%2Bzvgx4c%2BK2lfsjeC/CenaRoPgbxlaeAdKtpNMurCbVNO0O9S0hWS28tbqKW4iiYNGP9IVmCglz1Pnf/AAS/%2BGlh4A%2BAfinVLy00mTxL4g%2BNvxCvfGGs6Rpb2ceq6gvi7V4WnEUkszxpsiRUjaWQoqgb2OWPHjcPXxVNUoT5U37zXxcttovo3tfdK9tbNfScMZvlmRY2eOxOGVepCN6MZ60lV5lyzqx/5eRppOSp3UZz5FO9NSjP1X9mr9n7wJ%2By18DfDnwG%2BHFrs0vw7p626zMgEl1MctLcSY/jkkZ5G7ZYgcACu5orx79s/wDbU%2BGf7Evw%2B03xr480TWNbvNb1iLTdD8N%2BHLdZ9Q1CU/NIYoywyI4wzMc4ztXq4q5zwuX4S8moU4JeiSsl%2Bi6v1Pns4zepWrV8yzGteU5SnUnJ3blKTcpN6ttyl0W7SS2S9horjPgH%2B0D8Iv2nPhjp/wAXvgl4ztdb0PUV/d3EBw8MgA3QyofmilXI3IwBGR2IJ1/iB8Tfht8J9CHij4p/ELQ/DWmGdYRqPiDVobOAyNkqnmTMq7jg4GcnBrSNajOkqqkuVq97q1u972t8zmjiMPOgq0ZpwavzXVrd73tbzublFZXgvx14I%2BJHh2Dxf8O/GOla/pNyWFtqmi6jFdW0u0lW2yRMytggg4PBFataRlGUU4u6ZpGUZxUou6fVar8AoooplBRXz7%2B0z/wUL8A/Aj4lWHwE%2BHfw68Q/E/4j3sJuZfBPgmJJrjT7QLuNxdOx2W6kFdob5juU4AYE%2BRah8bP%2BCx2ranN%2B074X/Zv0G08GWdz9ktvgVql/EuvajachtQa8ClYZw2NsOduzd%2B7ZgrP5VfOMJRqOnFSm4v3uSLly97taadUm5f3b6Hi4nPsDQqypwU6kou0lThKfL3u0raaXinKetlG%2Bh9v0V8T%2BGfjd/wAFc/2f9Tj8ZftC/s8aZ8VdE8WQNcx%2BHvhtLDDfeDLnOVsmL4F3DsxmXc5Em4eYVC7/AET4Z/8ABV39jrxb8PtX8VfE74i23w21zwzJNB4p8D%2BO7hLLWNPniBLRrbE77nIHymEOWyBgNlQUs5wU3y1W6UtdKi5NFru/demtlJu26umkqPEGXTfLWboy1dqq5NFrdN%2B69NbKbaW6TTS%2BlKK%2BK739un9tf9q3w9aeHP2LP2PPEnhCDxNLnSvit8SIoYtPsdOOf9PW1yzSuy4McZDA7gSHWsz/AISL/guf4uH/AArLTfC3w78Naj4GDT6h4%2BvXSez8fsvMFvBbhc2ayL/rmwhVj8rRfdOTzzDvWlSqTXRxg7N72TfL01vZR6KTbSeMuJMLJ3oUatSL2lGnKze9k5cvT3rtKLWik5NJ/c9FfIel/wDBRD9r2302C38V/wDBKT4orqccSrqC6ZqNnNbecBh/KcsN6bs7T3GK9M/ZA/bY039qfXfGXgDXfhF4g8AeMPAt3aR694U8TmP7THDdQ%2Bbbzgxkgq4DfTA/vCuijm2Br1Y04yalLZOM430vb3opXtfS99GdeHzzLcTWjRhJqUtlKE43aV7e9CKvZPS99HvY9wooqrruu6L4X0S88S%2BJNXttP07T7WS5v769nWKG3hRSzyO7EBVVQSWJwACa9FtJXZ6rairstVW0fWtG8Q6emraBq1rfWshYR3NnOssbFWKsAykg4YEH0IIr4n1/4rfHX/gq1rl58Nv2aNa1XwH8Ara5e18U/FJIWg1LxcFJWSz0pXGY4Dgq9wRzyMcNE%2BT4r%2BHel/8ABGf4r%2BGvij8KdX1iH9nfxZqCaR8Q/DN7eS3sPha/kVUttXgL7pFjdl2zcnJP8RaJU8SWc/8AL6FO%2BHTs6l7bu3NFW1gn8UtO8U4ps%2BcnxBb/AGiFJvCp2lVvbd25oxteVOL%2BKd0tbxUoqUj73or4/wBE/wCCqHxB%2BJFmfF/wH/4J4fFvxj4RuZnGh%2BKbe2gtYdUhVivnxRzMHEbEEqTyR1AOQGJ/wWa%2BCGsaFp/hvwP8HfHut/FS81aXTbr4N22iMmtadcQjM7XG793HCq8iTJznoNsmzX%2B3cptd1bdrqSv/AIbxXN5KN290mtTf/WXI7Xdaye14zXN/hvBc7d1ZR5m1qk1qfYdFfA/xN/bg/wCCi3w917Tf2vfiX%2Bz0ngP4E6FrlvpfivwZqPl3XiCWzuP3cmsSGNT5UcErRhY0ZS2TuDKd6/UsX7c37E80azR/tgfC7aygjPj/AE4HB9jNxWmHzfBYiUot8jVvj9y6e0kpNNp2a2TutUtL6YXPsuxU5wcvZuNv4n7tyT2lFTcW4uzV7J3WqV1f1OiviLQvib%2B2V/wUN%2BNHjbxF%2Bx/%2B1lD8LfhJ4Lvk0HRfEFv4GsdcPivUo8td3MRuSNsCFkRXRirjBAJLbbOqfHn9tL/gnR4qi1P9tbx2fjB8ItWkjjufifofhKHTr/wncMQv%2BmWVrlXtGJH71dzAk85KRtis7o29q6cvZXa9ppy6O19G5ct0/e5bdfh1MFxFQ5fbOlNULte1tFw0dubSTmoXTXPy8tve%2BH3j7UorxvxB/wAFDf2FPDXhS68Z6h%2B138OpLO0s2upEsvF9pcXDoF3YSCKRpZHI6IqlieAM15Fo/wDwVD%2BM/jPRovGXw5/4Jk/GPWPD19GZ9H1Uw20BvbY52TCJmLAOuGA5yCMEgg10Vc2y6jJRdRNvW0bzdu75FKy9bHVWzzKaElF1VJtXtG83bu1TU7LzdvK59g0V8ex/8Fl/gj42sNC0H9nr4PeO/iF471WOd9U%2BHej6OYdR8PiAlZ/t5lxHCVcbAAW3EjkZGcWT42/8FgrrW2/agtP2c9Gh8CQ3osx8CprqL/hIriwzhtS%2B1Y2rchuRBu2lMjYWw5wlnuAf8Hmqd%2BSLkkurbslp1Sbl05bpo5pcSZZKzw/NWXV04ymordttJLS6vFNz6cl00vtyivkr/h4t%2B09/0in%2BL/8A4E2X/wAVVrwZ/wAFUPCWmfEXTvh3%2B1r8A/F3wOOuxOfDuu%2BPzDHpl9KnLwm6VtkMgBBG8gHpkEqGtZ1lt0nNq%2Bl5RnFffKKS%2BbRquIcockpVHG7teUJxV3teUoRir%2BbWvU%2BpdR1HT9I0%2BfVtWvobW1toWlubm4lCRxRqMs7M2AqgAkk8ACuN/wCGm/2bf%2BjhPA//AIVln/8AHK%2BVP2qfjXpv/BST4h6d%2BwL%2Byp4rk1nwdJqEF58bviD4elEmn2ekoRKumQXaEpJPcMoU7CQoGDuHmhPZU/4JY/8ABO2NBGv7H/gnCjA3aUCfzJ5qFjsZi60lgowlCOnNJys5dVHlTuo6Ju9r6LZmSzLH46vNZdGEqcNHOUpWlLqo8iaajom725nZXsyb9oH/AIKOfsv/AAG0Kwms/GSeOtf1u%2BWy8O%2BDPh7PDquq6pcEj5Y4YnwAM5LOVHYZYhT474i/an/4Km/GTVZvif8As2fseHwl4P8ACCLNf%2BFPikotNc8ZSHHm29qilltQiElZCcM4Xl/mjH0T8H/2Jf2SPgB4qPjj4Mfs8eFfDmsm3aAappulIk6xt95Vc5Kg45xjPevUaJYPNMX/AB6/s10VNfi5yTlvrZJJpWd7sJYDOcbf6zifZLpGiu2zc5pyeurioqLSs7ps%2BSIf%2BConxHMKG6/4JfftHpLtHmJH4LiZVbHIDecMjPfAz6Cuk/4J1/FHUPjPrfx5%2BJeq/DDxJ4Mn1L4zQeZ4a8X2IttRs/L8I%2BG4h5sYZgu8IJF5OUdT3r6Trxn9l/8A5Lf%2B0d/2Wax/9QrwvXXhsPjKU71a7mrbckY/O8dTuwmFx9Co5V8S6ittyQjr3vHX5bHs1FFFdp6IUUUUAFFFFABRRRQAUUUUAFFFFABRRRQAUUUUAFFFFABRRRQAUUUUAFeM%2BOP%2BUhfwv/7Iz48/9O3hCvZq8Z8cf8pC/hf/ANkZ8ef%2BnbwhQB7NRRRQAUUUUAFFFFABRRRQAUUUUAFFFFABRRRQAUUUUAFFFFABRRRQBj%2BMvh38P/iLp/8AZPxB8C6Prtrgj7NrOmRXUeD1%2BWRWFeF/EL/gkn/wTn%2BJUrXWs/sq%2BHdPnLbkn8NGbSWjbqGUWUkQBB56Yr6MorlxGBwWLX7%2BlGXrFP8ANX/E93KOKeJuH3fK8dWof9e6tSC%2B6M1H74s%2BSf8Ah03pngz97%2Bz9%2B298dvAuz/U6dbeOTfacnpm3uEO7Hu9H/DOf/BWn4dc/D3/goJ4P8bwp/qbH4hfDWO0wP7rT2LGR/wDeIzX1tRXH/YmAj/C5of4Jzj%2BHM1%2BB9J/xE7iyv/v7o4pf9RGGw1Vv/t90adT5%2B0v5nyT/AMLq/wCCxXw748afsXfC/wCISx/6yTwB8Qn0veO5VdSUn8KP%2BHn3xH8F/J8dP%2BCa/wAdtA2/6678PeHotctIfUtNBIuF9wpr62oo/s/G0/4WKn/28oT/ADjF/iH%2Bt/DOL/37IMO/OjUxOHf3Rq1oL/wCx8r6D/wWh/4J56hfjRfFXxh1DwnqR%2B9p3i3wnqFlIn%2B8zQGMf99V614F/bU/ZA%2BJuxPAP7UPgHVZZMbba18W2hmH1jMm8fiK9B17w34d8VWDaX4n0Cy1K1b71tf2qTRn6q4IryTx1/wTn/YP%2BJG9/Fn7I/gGSWTPmXFn4bgtJm9zJbqjk%2B%2BaOTPKe06c/WM4P8HJfgL6x4V4z48PjcM/7lXD4iP3VKdCdv8At6/meyW11bXtul3Z3Ec0Ui5jlicMrD1BHBqSvk25/wCCLP7Dmm3D3vws0rxp4BuHbcbjwX4/1G2YN6gSyyKPwGKYP%2BCbHx58HD/izP8AwVH%2BNum7f9SnjC8tfECJ6DbOiZA9KPrebU/jwyf%2BGpF/hKMX%2BIf2B4f4r/ds8lTfavg6sfvlQq14/wDkr9D61or5K/4Uh/wWH8D/APIq/tv/AAz8cBPuDxr8Nzpu/wD3jp7HH4Uf8LX/AOCzPgf/AJGf9k34PeOdn3v%2BEM8dXGmeZ/u/2gpx%2BNH9quH8XD1Y/wDbnMvvhKX5B/qBGv8A7lm%2BBreX1h0X92Io0rfOSPrWivkr/h4V%2B1t4S/5K7/wSi%2BKNlt/1v/CG6zY%2BIMeu3ySm6j/h8j%2BzhoP/ACVv4NfGbwBt/wBb/wAJh8MLuHy/Xd5Pm0f25la%2BOpy/4ozj/wClQS/EP%2BIW8d1P92wir/8AXith69/RUsRKT%2BUD61or5t8If8FfP%2BCbXjfaNI/ay8PW5btrFvdafj6/aoo8V6l4Q/aw/Zb%2BIG0eBf2kvAWsl/urpfi%2BynY%2B2ElJz7V00cyy7Efwq0Jekov/ANuPEzHgvjHKL/XstxFK389CtFfe6VvxPQK8Z8cf8pC/hf8A9kZ8ef8Ap28IV7HbXNteQLdWlwksTjKSRuGVh6gjrXjnjj/lIX8L/wDsjPjz/wBO3hCu0%2BbaadmezUUUUCCiiigAooooAK8Z/YP/AOSIa5/2Wb4j/wDqa63Xs1eM/sH/APJENc/7LN8R/wD1NdboA9E%2BLvxP8K/BP4W%2BIvi943ujDpHhnRrjUtQdcbjFDGzlVB6scbVHckDvXy/%2Bxl8IfjF%2B1P8AFnRf%2BClX7WNvZWE0vh90%2BEHw9s8yReGtNuwG%2B2TSMB5l5NEQCQBhG5wdqRN/4KZa3P8AtG%2BP/h//AME0fA1zLNd%2BPNYt9b%2BJBtHwdO8K2cwklaRgfkM0qIkZ7tGVP3xn6/sbGz0yyh03TrWOC3t4liggiQKkaKMKqgcAAAACvGcVmOZSUnenRtp0dTfXvyK1lspSu9UrfPuKzXN5Rk70sPy6dJVfi17%2Bzi42WynK7V0rfMHxN/4JnRf8Lc1T41/skftF%2BI/gpq3iVP8AisLPwtYQXGn6vKG3LcNay4jjnyWy6/e3E4BZy1bwZ/wSz0DxH8RLf4l/tr/HXXPjzc6TaPb%2BHNI8Z6XbxaVp2/PmS/Y48xTSsMDc44AHBKoV%2BraK1eTZY6nM6fW9rvlvvfkvyb6/Dvra5u%2BH8ndXndLrzct5cl97%2Bz5uTfX4LX1tfU%2BFvjR8OdK/4JQfGzRv2p/gZaXOk/BPxXrUemfGHwTZEnTtDlnKx22tWsIGLdVk2pKqcEFVVfmG37j07UdP1jT4NW0m%2BhurW6hWa2ubeUPHNGwBV1YZDKQQQRwQap%2BMPB3hT4g%2BFtQ8EeOfDtnq2j6ravbalpuoW6yw3MLDDI6MCGBFfKWk/wDBKTxH8O4JPC3wD/b8%2BMXgfwlFcSSaP4S07Vop7bS43YsYYWlUv5YYnAJJGeSTknGNDFZZWksLT56UteVSUXCXW3Npyy3srcsr2Vnpzxw2NyevNYOj7SjPXkUoxcJdeXm93klvZW5ZXsrS05ODVv21/wBvD47/ABd8V/syftd3Xw48F/DrXY/DHg2CHw9bXtprmq2sRe9knaRS3lCZkTcu8FGGF%2BUhsb4kf8FOv2lI/Akv7Gmp/Bm88KftSa5qVvoGiWtvbNLpNxHPvD6/aTkMpto40kcq24o%2BM71STb9ffsofsz%2BB/wBkP4E6L8B/AF7eXllpPnST6lqLK1zfXE0rSyzysoALM7n6AKO1dxeeGfDeoa5Z%2BJr/AMP2M%2BpackiafqE1ojT2qyACRY5CNyBgAGAIzgZrnhlWPlh1L28oVJ359XJe87tRu/dcU%2BWMo2Wl2npblp5JmksKprEyp1ql/aaucbSbbUE3aEoJ8sJRstLyi9GvLv2Pf2MPhX%2Bx34Hm0fwitxq3iTWZBdeMvGusSGbUtevTkvNNK2W27ixWPOFyTyxZm9foor3KFCjhaKpUo8sVsl/X3vdvVts%2Bkw2Gw%2BDoRo0IqMY7Jf1u923dttttt3CuB8ffsq/sx/FXxhH8Qvid%2Bzx4J8Q69Csax6zrfha0uroCM5QebJGWIXsM8dq76iqqUqVaPLUipLzSf5plVaFGvHlqxUlvZpNfc00IqqihEUAAYAA6UtFFaGoV8b/tqtrP7G/7YfhL/gorpHhPVL/wVd%2BG5/CvxnGiWhnks7IOJbLUmiU5cRS5WRwCVjQKPvAV9kUy5tra9tpLO8t0lhlQpLFKgZXUjBUg8EEcYrjx2E%2BuUOWMuWSalF2vaS1Tt1W6a6ptHBmWB%2Bv4dQjLlnFqUZWvyyi7p26rdNXV4tq%2Bx4Nrn/BUf/gnroPhW58Xz/td%2BB7i3trI3JtbHXIp7uRQu7YluhMrSHoEC7s8YrwX4l%2BOP2uP%2BCpOgeHPghpv7KXin4YfB7xTrMV94u8ba/rdvHeapoEJMq2yWqES273JWMZ%2BYAEcshYn6xs/2Qf2TNOvotT0/wDZe%2BHUFzBKssFxD4JsFeNwchlYRZBB5BHOa9FrhqYHMcbF08XVioPeNNNc3dSc7tJrS0bXTd2ebVy3Ncxi6WNrRVN6ONOLXOrq6lKd2k0rWhZtN3lqUvDXhvw/4N8PWPhPwpo1tp2mabaR22n2FnEI4reFFCpGijhVAAAHtUXi/wAG%2BEfiD4bu/Bvjzwtp2t6RfxiO%2B0rV7KO5trhMg7XjkBVxkA4IPIFaVFexyQceW2m1ulu1trHv8kHDksrWta2ltrW2tbpaxHaWdpp9pFYWFrHBBBGscMMKBUjRRgKoHAAAAAHSsuz%2BHfgDT/G158S7DwNo8HiPULNLS/1%2BHTIlvbm3Q5SKScLvdFPRSSB2FbFFDjF2uttvL0BwhK10tNtNvTt8rFPxD4d0DxdoN54W8V6Haanpmo2r22oadqFss0FzC6lXjkjcFXVgSCpBBBryj/h3h%2BwV/wBGYfC7/wAIWw/%2BNV7HRWdXDYau06sIyt3in%2BaZjXweExLTrU4ya25oxl%2BcWY/gP4feA/hZ4UtfAvwz8GaV4e0SxDCy0jRbCO1toNzF22RxgKuWZmOBySSeTWjqml6Zrem3Gja1p0F5Z3cDw3dpdQrJFNGwKsjqwIZSCQQRgg1PRWihCMeVLTa3T7tjaMIRgoRSSWlrK1u1treVrHkVj%2BwB%2Bwvpl/Dqmnfsc/DCG4t5Vlgmj8DWAaN1OQw/dcEEAivXQABgDAHQCiiopYehQv7KCjfskvySMqGFwuGT9jTjG%2B/LFRv62SMbQ/h38P8Awx4l1bxn4b8DaPp%2Bsa88ba5qtjpkUVzqLRrtQzyqoaUqOBuJwOlbNFFaRjGKtFWNYwhBWiremm%2B4Vg/Ef4WfDP4xeGH8FfFr4e6L4m0eSVZX0vX9Liu7cyLyr%2BXKrLuHY4yK3qKUoxnFxkrp9HqvxCcIVIOE0mnumrp%2Bqd1%2BBz/w0%2BE3wt%2BDHhseDvhD8OND8L6T57Tf2b4f0qGzgMjY3OUiVVLHAycZOB6V0FFFEIQpxUYqyXRaL7lYIQhSgoQSSWySSS9ErL8Aoooqigrxn9l//kt/7R3/AGWax/8AUK8L17NXjP7L/wDyW/8AaO/7LNY/%2BoV4XoA9mooooAKKKKACiiigAooooAKKKKACiiigAooooAKKKKACiiigAooooAKKKKACvGfHH/KQv4X/APZGfHn/AKdvCFezV84ftH6v8a9H/bw%2BE8/wO%2BH/AIW8Rak3wj8drd2nivxhc6LBHB/anhIl0lt9PvWd920bDGowSd%2BQFIB9H0V4z/wnH/BQv/o1/wCDP/h%2BNW/%2BZej/AITj/goX/wBGv/Bn/wAPxq3/AMy9AHs1FeM/8Jx/wUL/AOjX/gz/AOH41b/5l6P%2BE4/4KF/9Gv8AwZ/8Pxq3/wAy9AHs1FeM/wDCcf8ABQv/AKNf%2BDP/AIfjVv8A5l6P%2BE4/4KF/9Gv/AAZ/8Pxq3/zL0AezUV4z/wAJx/wUL/6Nf%2BDP/h%2BNW/8AmXrl/hF%2B0d%2B3b8ZfCl34v8OfsofCS2t7PxRrehSR3vx11RXM%2Bl6rdaZO42%2BGGGxprSRkOclGUkKcqAD6Oorxn/hOP%2BChf/Rr/wAGf/D8at/8y9H/AAnH/BQv/o1/4M/%2BH41b/wCZegD2aivGf%2BE4/wCChf8A0a/8Gf8Aw/Grf/MvR/wnH/BQv/o1/wCDP/h%2BNW/%2BZegD2aivGf8AhOP%2BChf/AEa/8Gf/AA/Grf8AzL0f8Jx/wUL/AOjX/gz/AOH41b/5l6APZqK%2Bcfjd%2B0d%2B3b8B/gx4v%2BOPir9lD4SXWl%2BDPC%2Boa7qVtp/x11Rp5oLS2kuJEjD%2BGFUuVjIUMyjJGSBzXUf8Jx/wUL/6Nf8Agz/4fjVv/mXoA9morxn/AITj/goX/wBGv/Bn/wAPxq3/AMy9H/Ccf8FC/wDo1/4M/wDh%2BNW/%2BZegD2aivGf%2BE4/4KF/9Gv8AwZ/8Pxq3/wAy9H/Ccf8ABQv/AKNf%2BDP/AIfjVv8A5l6APZqK8Z/4Tj/goX/0a/8ABn/w/Grf/MvR/wAJx/wUL/6Nf%2BDP/h%2BNW/8AmXoA9mor5x1b9o79u3R/jPoHwOuP2UPhI2qeIvC%2Br67Z3KfHXVPIjg065023mRyfDG4OzapAVAUghJMlSFDdR/wnH/BQv/o1/wCDP/h%2BNW/%2BZegD2aivGf8AhOP%2BChf/AEa/8Gf/AA/Grf8AzL0f8Jx/wUL/AOjX/gz/AOH41b/5l6APZqK8Z/4Tj/goX/0a/wDBn/w/Grf/ADL0f8Jx/wAFC/8Ao1/4M/8Ah%2BNW/wDmXoA9morxn/hOP%2BChf/Rr/wAGf/D8at/8y9H/AAnH/BQv/o1/4M/%2BH41b/wCZegD2aivnHwD%2B0d%2B3b8RPFfjfwho/7KHwkhuPAfiiLQtVkufjrqgSeeTStP1MPFt8MElPJ1GFSWCnejjGAGbqP%2BE4/wCChf8A0a/8Gf8Aw/Grf/MvQB7NRXjP/Ccf8FC/%2BjX/AIM/%2BH41b/5l6P8AhOP%2BChf/AEa/8Gf/AA/Grf8AzL0Aeh%2BL/g/8JPiCGHj34W%2BHNcD/AHxq%2BiW9zu%2BvmIc15b4u/wCCY3/BPnxvu/tv9j/wHGX%2B82l6DHYE%2B%2BbYRnPvV/8A4Tj/AIKF/wDRr/wZ/wDD8at/8y9H/Ccf8FC/%2BjX/AIM/%2BH41b/5l65q2CweI/i0oy9Yxf5pnt5dxNxJlFvqGOrUbfyVqsF90aiX4Hmlz/wAEUf2A7Odrz4f%2BBvE3g64c7jceFvHmpwMD6gPO6j8BVD4KfsjaP%2Byr/wAFC/BkGg/HT4meL7XW/gz4y8uy%2BIPi1tUi0zydW8K/8egZFMXmeb8/J3eVH028%2Btf8Jx/wUL/6Nf8Agz/4fjVv/mXqh4H8D/tWeMf2rPDnxu%2BN3w4%2BHvhnRvDPw98Q6HDD4V%2BId9rV1d3WpX2iXCMyXGkWKRRomlygsHdi0qALjJGFDKctw1VVKNGMZL%2BVW/BNL8GermniBxvneAlgsyzCrXpStdVJKo9GmvenCU1ZpbVI9ndXT91ooor0D488i/b6%2BIXjT4UfsUfFP4kfDzWZNM1nRfA2o3Vlq8MYZ9NKwNuvFDAqTAu6YbgVzHyCMivMfhJpvxT0V/2kP2dPgH8YNYvT4d0qyHw68ReOPE13rkmia1faH5vky3l6800sUcv2S82SM%2BwXpCgRmNF%2Bpr2ys9Ss5dO1G0iuLe4iaOeCaMOkiMMMrKeCCCQQeCDXH%2BB/2a/2c/hloVt4W%2BG3wB8FeHtMsxdi007Q/CtnaQQfalVbnZHFGqr5yogkwPnCqGzgUAfG/wAG/G0nhnUPjR8Mf2pNS%2BLPgL4d%2BCfBHgvWdQOv/Ge%2B1PXU1u6m1aO8gh1PTb%2Be6VbkWum%2BVYwTrIxmQrBH9sWI6Pxn8B/FzS/%2BCaVm3xM8XfEnSfifq2sXuifCq1h%2BK2t2Op6VPr%2Bsm20K31SbTr2I6nNYW9xZmdp3m2i0uD5j5klf6kj/AGN/2Q4vhXL8C4v2VvhuvgibUk1CbwcvgbTxpUl4rKy3DWnk%2BSZQUQhyu4FQc8Ctvwr8AfgR4F8NaN4M8EfBTwjo2j%2BHNUbUvD2k6V4btbe20u9ZZVa5t4o4wsExE0wMiAMRK4z8xyAWDDqXwm%2BFFvYeH9C8R%2BM7nQNHhtrazTUoJdV1YxIsYLT308MckzY3NJNMu45JbJ5%2BJP2Uv2EfFv7QHw88R/GS6/bJ/aK%2BG8viD4v%2BP7mbwLonj21t7bRX/wCEv1dWtxHbrPErAqS/lyyIXLFXYEGv0Ar5K/ZK8Wftnaf8PfFFn8MfgH8MNX0JPjT8Rf7P1HXvi7qOm3cy/wDCZ6yWMltFoFykRDbgAJnyADkE7Rz4nC4fFwUKqulru1/6TKL/ABOXF4LC4%2BmoV43Sd95LX/t2UX%2BNvI9H/ZP/AGFPh9%2Byl4m8TfEO3%2BJHjPx14t8Wi3i1fxf8QNYS/wBRNtAu2K2WURptjHXHJJC5OFUD26vGf%2BE4/wCChf8A0a/8Gf8Aw/Grf/MvR/wnH/BQv/o1/wCDP/h%2BNW/%2BZeqw%2BGoYSkqdGPLFdPXV7tttvdttlYXCYbBUFRoR5Yq%2Bivu3dvVttt6tttvuezUV4z/wnH/BQv8A6Nf%2BDP8A4fjVv/mXo/4Tj/goX/0a/wDBn/w/Grf/ADL1sdB7NRXjP/Ccf8FC/wDo1/4M/wDh%2BNW/%2BZej/hOP%2BChf/Rr/AMGf/D8at/8AMvQB7NRXzj8bv2jv27fgP8GPF/xx8VfsofCS60vwZ4X1DXdSttP%2BOuqNPNBaW0lxIkYfwwqlysZChmUZIyQOa6j/AITj/goX/wBGv/Bn/wAPxq3/AMy9AHs1FeM/8Jx/wUL/AOjX/gz/AOH41b/5l6P%2BE4/4KF/9Gv8AwZ/8Pxq3/wAy9AHs1FeM/wDCcf8ABQv/AKNf%2BDP/AIfjVv8A5l6P%2BE4/4KF/9Gv/AAZ/8Pxq3/zL0AezUV4z/wAJx/wUL/6Nf%2BDP/h%2BNW/8AmXo/4Tj/AIKF/wDRr/wZ/wDD8at/8y9AHs1FfOOrftHft26P8Z9A%2BB1x%2Byh8JG1TxF4X1fXbO5T466p5EcGnXOm28yOT4Y3B2bVICoCkEJJkqQobqP8AhOP%2BChf/AEa/8Gf/AA/Grf8AzL0AezUV4z/wnH/BQv8A6Nf%2BDP8A4fjVv/mXo/4Tj/goX/0a/wDBn/w/Grf/ADL0AezUV4z/AMJx/wAFC/8Ao1/4M/8Ah%2BNW/wDmXo/4Tj/goX/0a/8ABn/w/Grf/MvQB7NRXjP/AAnH/BQv/o1/4M/%2BH41b/wCZej/hOP8AgoX/ANGv/Bn/AMPxq3/zL0AezUV84%2BAf2jv27fiJ4r8b%2BENH/ZQ%2BEkNx4D8URaFqslz8ddUCTzyaVp%2Bph4tvhgkp5OowqSwU70cYwAzdR/wnH/BQv/o1/wCDP/h%2BNW/%2BZegD2aivGf8AhOP%2BChf/AEa/8Gf/AA/Grf8AzL0f8Jx/wUL/AOjX/gz/AOH41b/5l6APZqK8Z/4Tj/goX/0a/wDBn/w/Grf/ADL0f8Jx/wAFC/8Ao1/4M/8Ah%2BNW/wDmXoA9morxn/hOP%2BChf/Rr/wAGf/D8at/8y9cv8bv2jv27fgP8GPF/xx8VfsofCS60vwZ4X1DXdSttP%2BOuqNPNBaW0lxIkYfwwqlysZChmUZIyQOaAPo6ivGf%2BE4/4KF/9Gv8AwZ/8Pxq3/wAy9H/Ccf8ABQv/AKNf%2BDP/AIfjVv8A5l6APZqK8Z/4Tj/goX/0a/8ABn/w/Grf/MvR/wAJx/wUL/6Nf%2BDP/h%2BNW/8AmXoA9morxn/hOP8AgoX/ANGv/Bn/AMPxq3/zL0f8Jx/wUL/6Nf8Agz/4fjVv/mXoA9mrxn9l/wD5Lf8AtHf9lmsf/UK8L0f8Jx/wUL/6Nf8Agz/4fjVv/mXq3%2Byt8OfjT4P1j4oeO/jpoHhfSdU8ffEKLXLPSvCfiW51a3tbWLQdH0xVe4uLKzZpGk06Vyoi2hZEG5jnAB63RRRQAUUUUAFFFFABRRRQAUUUUAFFFFABRRRQAUUUUAFFFFABRRRQAUUUUAFfK/7T37Wnxc%2BGHxj8Wa14B8O%2BD5PDHwf8P%2BH73xqda0i4m1XVLfV7%2BVLmCwuI7iNLLyLazjuMyRTi5kKRkQ%2BX5p%2BqK8Z%2BM/7EPw4%2BN3xSPxM1zxz4q0uLUbXSLXxf4a0a6tU07xTBpd7Je2MV8stvJMFjmmlz9nlgMschimMsYVAAezUUUUAFFFFABRRRQBwX7Rer/FLw38PZ/Fnw1%2BK3gXwVBo6TX3iPxF8QPD1xqVja6fFC7yMY4L6y2YIDGRptqorfKeMfLPwW/wCCgf7RnjHw3pfxfvvhP4S8KeDtN8ceB/CXj3wdNo12usPrfimDR7l7y3nM8aW8UU/iTTy0M1s80mLku8bgCvo/9rP9lXSv2t/BmjeBdf8Ai74u8K2OkeJLXWpY/Co0101OW33NDBeRajZXcNxbrKUm8pkwZIYichcVzf8AwwL4LvfiVafEnxN8afHesbtZ0jXPE2hXkulx6f4m1zTI447HVr2O3sY2FxEILQ7bZ4IGNlblomMYyAe8UUUUAFFFFABRRRQB8Z/txf8ABR3xP8B/iHf6L4X%2BGWheJ/h54c8O%2BJo/iDJqccjTalqtn4ZvtaTSrNt4iUJFaxLcPIkqH%2B0I0Xa0U2PZP2aPi78c9W%2BKnjf9nr9o658Kah4n8I6ToetR614K0i5sLG5sdUF5GkRgubm5dZYrjTrtS/m4kQxNsjJKjA%2BPf/BKj9gb9pDx5b/En4l/szeD31kz6lLrOo2PhawhudcN7p89jN9suBAZ5SEuGkRxIrrLHG4b5cV3v7Pn7M2kfAO817xFd/FDxZ448R%2BJDZx6t4q8a3Fm99LbWkRitbUfY7a3hWKIPKwxHvZ55XdnZyaAPSqKKKACiiigAqDVNStNH0y51e/crBawPNMwGcIqlicd%2BBU9JJHHNG0UsasjKQysMgg9QRQB8DfB3/gpP8Uv2hYPhxdeA/F/w5t/GnxkvLKHwHo%2Bs/C3WoH8K6Vdabf6zPcS3Nxewr4hh%2BzaQ0JlsPs1ubpY8yMu2vrD9kj4z%2BJPjz8D7Xxx420uxs9esfEGu%2BHfEMWlhxavqOj6veaTdSwCRmdYZJ7KSSNWZmVHUFmIJPlVj/wSq%2BEOlv4e1DTPjd8R4NU8A2Nrp/wl1hLzSzP4BsINyLaacG08xzRtA32d2vku5HhUIznqfc/gd8G/CnwB%2BF%2Bm/CrwZc31zaae9xNNf6pOst3f3dzcSXN1dzuqqrTT3E00zlVVS8rYVRgAA6yiiigAooooAK8J/bx/aR%2BI/wCzl4Y8EzfDeC1im8V%2BNRo1/q03gjUvFEunQDTr278yHRtKmivdRdpLWOIrA2YkledwY4Xr3avPPj5%2BzrpXx2n8M67B8R/Evg7xD4O1eXUfDnifwm9mbu0kltZrWaMx31tc20sckM7qVkhfBCspVlVgAfKv7OX/AAUT/aB%2BKehaX8etQ8EfD7TPBz/ELwh4M8b6TpljPLqeoavrem6Qyanb3i3XlRQxSavpsBtZYZpQkEwM42ID92183fDL/gl98CfhJ4h0m%2B8H%2BPPGyaHYa5YeIdV8H3Op2suna94hs4Fhg1q9LW32l7sCKByIpo4GktoXMJMYr6RoAKKKKACiiigAooooAKKKKACiiigAooooAo%2BKPENh4S8Naj4r1UObXTLGa7uREuW8uNC7YHc4U185/sTftJ/Gvx/4p0fwZ8bPD3gyzHjr4W2XxG8Mw%2BDNKuLQaZHeXBN3p92ZriUXc0b3Ns/2xBAJ2lmJgj2gv9LXdpa39rLY3tuk0M0bRzRSqGV1IwVIPBBHGK8h/Zm/Yr8Bfswaq%2Br6B8QfFviWW28MWPhnw6PFl7azDQNCs3ke3021Nvbwlo1MnzSzma4kEcXmTP5a4APYqKKKACiiigAooooA%2BS/28f2u/jF%2BxzqFx4t8axeBfGngTUtF8RXsvw6s/Dd1HrkekaX4fvNRu7%2BW8e8kt5oBNbxW7o1nGg%2B3wL5rOypL6R%2BzP8X/AI%2Bap8XPGX7Ov7Sz%2BErzxR4Y8MeHvEseq%2BCtJubGykstWfUrdbYw3NzcuZYbjSLsGUSBZEeJvLjO5azvE3/BP3wl40%2BOPjn4zeL/AI7ePNUs/iLoQ0HxR4J1CLRZtKl0X7K9udLhd9NN7bWrGWWZkiukLzSu7McgDrv2d/2XdD/Z9vta8Rz/ABQ8W%2BN/EOv2thZX/ifxtc2kl6bCxSRbOzH2S2t4/KiM9w4JQyO9zK7u7NmgD0%2BiiigAooooAKxPiR8Q/CHwk8A6x8TvH2rLY6LoOnS32pXRRnKRRqWbaqgs7HGFRQWZiFAJIFbdZHjvwB4E%2BKXhG%2B%2BH/wATvBWkeI9B1SHytT0TXtNivLO7jyG2SwyqySLkA4YEZAoA%2BKfh9%2B27%2B238ZviDqXwq0n4b/DTwp8RdKuvF19AfEWiXl9Hp%2Biada%2BG7iPSJjDexN9ulm121jmuo5PIU2LusEn7sV9gfAL4tab8fPgT4K%2BOujabLZ2fjXwlpuvWlnM%2B54Iry1juFjYgDJUSAE%2BorwSw/4I//ALJ/gbVtb8Sfs9Pq/wAJdW8QajqMl/qvwysNI02Uaff2tnb3WkorWEka2b/YLeZQE86KZWkiljLGvpXwX4P8NfDzwdpPgDwZpMWn6PoemQafpNhDnZbW0MaxxRrnnCoqqPpQBp0UUUAFFFFABXhX7dP7Vmsfsz6L4G0DwhJaQa/8Q/GR0HStQvfCuoa9HYiPT7zUJphpmmst3qD%2BXZNEkELIxeZXZgkbmvda4T47/ATRvjrYaDJL401zwxrfhTXv7Y8LeKfDX2Q3ul3ZtbizkeNby3uLdw9td3MLLLC6lZiQAyqygHzJ4B/b0%2BKniDVLr4q%2BCtZ%2BG3iL4d6J8UPBvgTxpqWi%2BFb2yv8AxDrGuwaNGup2rSXriyit21vSomtLiO4mxb3CNMhjUV9rV82/D3/gl78C/hjr%2Bm3vhb4geN10aDX7DxHr/hO41K0k0/xL4hs38yDWr8m189rsSrDKRDNDAz2sBaIiNRX0lQAUUUUAFFFFABXx3%2B23%2B3J8V/gp%2B0UvwT0fwt4du/DL6R4Zkv7TWfBeo6nHrSatrFxp11Bc6lbzrZ%2BHo4oYleOTUI5EvHleOIM0TrX2JXiPxq/YS%2BHfxv8AiNqnjzWPiT4x0iy8TWOlWfjjwrol3Zrp3ie3064kntY7rzrWW4iAM0iObWa3MkZCOWAGADjv2MP2v/jj8avFHgmL4yaV4Wj034u/CD/hY/gSDw5p1zb3Gi2QmsRJp19JNczLeTLFqtgftESwKXWceVgKx%2Bn68Z/Zv/Yh%2BHH7M3iKPXvDPjnxVrkeleGU8NeDNN8R3VrJb%2BFNCWYSrpliILeF/JykC7rhp5ilrApkIjAr2agAooooAKKKKACiiigAooooAKKKKACiiigAooooAKKKKACiiigAooooAKKKKACiiigAooooAKKKKACiiigAooooAKKKKACiiigAooooAKKKKACiiigAooooAKKKKACiiigAooooAKKKKACiiigAooooAKKKKACiiigAooooAKKKKACiiigAooooAKKKKACiiigAooooAKKKKACiiigAooooAKKKKACiiigAooooAKKKKACiiigAooooAKKKKACiiigAooooAKKKKACiiigAooooAKKKKACiiigAooooAKKKKACiiigAooooAKKKKACiiigAooooAKKKKAP/2Q%3D%3D\">"
      ]
     },
     "metadata": {},
     "output_type": "display_data"
    }
   ],
   "source": [
    "step = tf.keras.optimizers.Adagrad(learning_rate=0.26) \n",
    "BATCH_SIZE = 512\n",
    "EPOCHS = 100\n",
    "\n",
    "simpleTrainingCurves = matplotlib_utils.SimpleTrainingCurves(\"cross-entropy\", \"accuracy\")\n",
    "\n",
    "for epoch in range(EPOCHS):  # we finish an epoch when we've looked at all training samples\n",
    "    \n",
    "    batch_losses = []\n",
    "    for batch_start in range(0, X_train_flat.shape[0], BATCH_SIZE):\n",
    "        \n",
    "        loss_ = lambda : loss(y_train_oh[batch_start:batch_start+BATCH_SIZE],\n",
    "                            X_train_flat[batch_start:batch_start+BATCH_SIZE]@W + b)\n",
    "        step.minimize(loss_, var_list=[W, b])\n",
    "        \n",
    "        batch_loss = loss(y_train_oh[batch_start:batch_start+BATCH_SIZE],\n",
    "                          X_train_flat[batch_start:batch_start+BATCH_SIZE]@W+b)\n",
    "        \n",
    "        batch_losses.append(tf.keras.backend.eval(batch_loss))\n",
    "\n",
    "    train_loss = np.mean(batch_losses)\n",
    "\n",
    "    val_loss = loss(y_val_oh, X_val_flat@W+b) \n",
    "    train_accuracy = accuracy_score(y_train, predictions(X_train_flat@W+b))\n",
    "    valid_accuracy = accuracy_score(y_val, predictions(X_val_flat@W+b))  \n",
    "    print(valid_accuracy)\n",
    "    simpleTrainingCurves.add(tf.keras.backend.eval(train_loss),\n",
    "                             tf.keras.backend.eval(val_loss), \n",
    "                             tf.keras.backend.eval(train_accuracy), \n",
    "                             tf.keras.backend.eval(valid_accuracy))"
   ]
  },
  {
   "cell_type": "markdown",
   "metadata": {},
   "source": [
    "# MLP with hidden layers"
   ]
  },
  {
   "cell_type": "markdown",
   "metadata": {},
   "source": [
    "Previously we've coded a dense layer with matrix multiplication by hand. \n",
    "But this is not convenient, you have to create a lot of variables and your code becomes a mess. \n",
    "In TensorFlow there's an easier way to make a dense layer:\n",
    "```python\n",
    "hidden1 = tf.layers.dense(inputs, 256, activation=tf.nn.sigmoid)\n",
    "```\n",
    "\n",
    "That will create all the necessary variables automatically.\n",
    "Here you can also choose an activation function (remember that we need it for a hidden layer!).\n",
    "\n",
    "Now define the MLP with 2 hidden layers and restart training with the cell above.\n",
    "\n",
    "You're aiming for ~0.97 validation accuracy here."
   ]
  },
  {
   "cell_type": "code",
   "execution_count": null,
   "metadata": {
    "scrolled": false
   },
   "outputs": [
    {
     "name": "stdout",
     "output_type": "stream",
     "text": [
      "Train on 50000 samples, validate on 10000 samples\n",
      "Epoch 1/50\n",
      "50000/50000 [==============================] - 1s 16us/step - loss: 1.7603 - accuracy: 0.7629 - val_loss: 105.3230 - val_accuracy: 0.1002\n",
      "Epoch 2/50\n",
      "50000/50000 [==============================] - 1s 13us/step - loss: 1.5728 - accuracy: 0.9111 - val_loss: 105.4666 - val_accuracy: 0.1043\n",
      "Epoch 3/50\n",
      "50000/50000 [==============================] - 1s 14us/step - loss: 1.5490 - accuracy: 0.9275 - val_loss: 105.5418 - val_accuracy: 0.0990\n",
      "Epoch 4/50\n",
      "50000/50000 [==============================] - 1s 13us/step - loss: 1.5360 - accuracy: 0.9372 - val_loss: 105.5717 - val_accuracy: 0.0991\n",
      "Epoch 5/50\n",
      "50000/50000 [==============================] - 1s 16us/step - loss: 1.5270 - accuracy: 0.9441 - val_loss: 105.5926 - val_accuracy: 0.0997\n",
      "Epoch 6/50\n",
      "50000/50000 [==============================] - 1s 13us/step - loss: 1.5206 - accuracy: 0.9498 - val_loss: 105.6163 - val_accuracy: 0.1011\n",
      "Epoch 7/50\n",
      "50000/50000 [==============================] - 1s 15us/step - loss: 1.5151 - accuracy: 0.9541 - val_loss: 105.6212 - val_accuracy: 0.1003\n",
      "Epoch 8/50\n",
      "50000/50000 [==============================] - 1s 15us/step - loss: 1.5109 - accuracy: 0.9578 - val_loss: 105.6366 - val_accuracy: 0.0999\n",
      "Epoch 9/50\n",
      "50000/50000 [==============================] - 1s 15us/step - loss: 1.5075 - accuracy: 0.9607 - val_loss: 105.6431 - val_accuracy: 0.1000\n",
      "Epoch 10/50\n",
      "50000/50000 [==============================] - 1s 14us/step - loss: 1.5045 - accuracy: 0.9635 - val_loss: 105.6460 - val_accuracy: 0.0999\n",
      "Epoch 11/50\n",
      "50000/50000 [==============================] - 1s 14us/step - loss: 1.5019 - accuracy: 0.9658 - val_loss: 105.6581 - val_accuracy: 0.0987\n",
      "Epoch 12/50\n",
      "50000/50000 [==============================] - 1s 14us/step - loss: 1.4995 - accuracy: 0.9676 - val_loss: 105.6597 - val_accuracy: 0.0989\n",
      "Epoch 13/50\n",
      "50000/50000 [==============================] - 1s 14us/step - loss: 1.4973 - accuracy: 0.9697 - val_loss: 105.6643 - val_accuracy: 0.0994\n",
      "Epoch 14/50\n",
      "50000/50000 [==============================] - 1s 14us/step - loss: 1.4954 - accuracy: 0.9716 - val_loss: 105.6632 - val_accuracy: 0.1002\n",
      "Epoch 15/50\n",
      "50000/50000 [==============================] - 1s 14us/step - loss: 1.4935 - accuracy: 0.9733 - val_loss: 105.6741 - val_accuracy: 0.0986\n",
      "Epoch 16/50\n",
      "50000/50000 [==============================] - 1s 14us/step - loss: 1.4916 - accuracy: 0.9749 - val_loss: 105.6779 - val_accuracy: 0.0992\n",
      "Epoch 17/50\n",
      "50000/50000 [==============================] - 1s 15us/step - loss: 1.4904 - accuracy: 0.9756 - val_loss: 105.6761 - val_accuracy: 0.0995\n",
      "Epoch 18/50\n",
      "50000/50000 [==============================] - 1s 15us/step - loss: 1.4888 - accuracy: 0.9771 - val_loss: 105.6812 - val_accuracy: 0.0999\n",
      "Epoch 19/50\n",
      "50000/50000 [==============================] - 1s 15us/step - loss: 1.4877 - accuracy: 0.9784 - val_loss: 105.6829 - val_accuracy: 0.0992\n",
      "Epoch 20/50\n",
      "50000/50000 [==============================] - 1s 15us/step - loss: 1.4862 - accuracy: 0.9795 - val_loss: 105.6871 - val_accuracy: 0.0978\n",
      "Epoch 21/50\n",
      "50000/50000 [==============================] - 1s 15us/step - loss: 1.4853 - accuracy: 0.9800 - val_loss: 105.6870 - val_accuracy: 0.0991\n",
      "Epoch 22/50\n",
      "50000/50000 [==============================] - 1s 14us/step - loss: 1.4842 - accuracy: 0.9810 - val_loss: 105.6923 - val_accuracy: 0.0994\n",
      "Epoch 23/50\n",
      "50000/50000 [==============================] - 1s 14us/step - loss: 1.4830 - accuracy: 0.9821 - val_loss: 105.6928 - val_accuracy: 0.0988\n",
      "Epoch 24/50\n",
      "50000/50000 [==============================] - 1s 14us/step - loss: 1.4823 - accuracy: 0.9826 - val_loss: 105.6917 - val_accuracy: 0.0994\n",
      "Epoch 25/50\n",
      "50000/50000 [==============================] - 1s 14us/step - loss: 1.4817 - accuracy: 0.9831 - val_loss: 105.6951 - val_accuracy: 0.0988\n",
      "Epoch 26/50\n",
      "50000/50000 [==============================] - 1s 16us/step - loss: 1.4807 - accuracy: 0.9840 - val_loss: 105.6956 - val_accuracy: 0.0990\n",
      "Epoch 27/50\n",
      "50000/50000 [==============================] - 1s 15us/step - loss: 1.4800 - accuracy: 0.9842 - val_loss: 105.7010 - val_accuracy: 0.0988\n",
      "Epoch 28/50\n",
      "50000/50000 [==============================] - 1s 14us/step - loss: 1.4794 - accuracy: 0.9847 - val_loss: 105.7030 - val_accuracy: 0.0988\n",
      "Epoch 29/50\n",
      "50000/50000 [==============================] - 1s 14us/step - loss: 1.4788 - accuracy: 0.9852 - val_loss: 105.7044 - val_accuracy: 0.0987\n",
      "Epoch 30/50\n",
      "50000/50000 [==============================] - 1s 14us/step - loss: 1.4782 - accuracy: 0.9859 - val_loss: 105.7048 - val_accuracy: 0.0986\n",
      "Epoch 31/50\n",
      "50000/50000 [==============================] - 1s 15us/step - loss: 1.4779 - accuracy: 0.9859 - val_loss: 105.7006 - val_accuracy: 0.0990\n",
      "Epoch 32/50\n",
      "50000/50000 [==============================] - 1s 16us/step - loss: 1.4772 - accuracy: 0.9864 - val_loss: 105.7053 - val_accuracy: 0.0984\n",
      "Epoch 33/50\n",
      "50000/50000 [==============================] - 1s 14us/step - loss: 1.4767 - accuracy: 0.9868 - val_loss: 105.7057 - val_accuracy: 0.0981\n",
      "Epoch 34/50\n",
      "50000/50000 [==============================] - 1s 14us/step - loss: 1.4763 - accuracy: 0.9871 - val_loss: 105.7080 - val_accuracy: 0.0990\n",
      "Epoch 35/50\n",
      "50000/50000 [==============================] - 1s 14us/step - loss: 1.4759 - accuracy: 0.9873 - val_loss: 105.7065 - val_accuracy: 0.0990\n",
      "Epoch 36/50\n",
      "50000/50000 [==============================] - 1s 15us/step - loss: 1.4755 - accuracy: 0.9875 - val_loss: 105.7071 - val_accuracy: 0.0994\n",
      "Epoch 37/50\n",
      "50000/50000 [==============================] - 1s 14us/step - loss: 1.4752 - accuracy: 0.9879 - val_loss: 105.7110 - val_accuracy: 0.0986\n",
      "Epoch 38/50\n",
      "50000/50000 [==============================] - 1s 14us/step - loss: 1.4749 - accuracy: 0.9880 - val_loss: 105.7097 - val_accuracy: 0.0990\n",
      "Epoch 39/50\n",
      "50000/50000 [==============================] - 1s 14us/step - loss: 1.4745 - accuracy: 0.9883 - val_loss: 105.7105 - val_accuracy: 0.0988\n",
      "Epoch 40/50\n",
      "41472/50000 [=======================>......] - ETA: 0s - loss: 1.4743 - accuracy: 0.9885"
     ]
    }
   ],
   "source": [
    "model = keras.Sequential([\n",
    "    keras.layers.Dense(128, activation='relu'),\n",
    "    keras.layers.Dense(10, activation='softmax')\n",
    "])\n",
    "\n",
    "model.compile(optimizer='adam',\n",
    "              loss=tf.keras.losses.CategoricalCrossentropy(from_logits=True),\n",
    "              metrics=['accuracy'])\n",
    "\n",
    "model.fit(X_train_flat, y_train_oh, batch_size=512, epochs=50,\n",
    "         validation_data=(X_val_flat, y_val))\n"
   ]
  }
 ],
 "metadata": {
  "kernelspec": {
   "display_name": "Python 3",
   "language": "python",
   "name": "python3"
  },
  "language_info": {
   "codemirror_mode": {
    "name": "ipython",
    "version": 3
   },
   "file_extension": ".py",
   "mimetype": "text/x-python",
   "name": "python",
   "nbconvert_exporter": "python",
   "pygments_lexer": "ipython3",
   "version": "3.7.3"
  }
 },
 "nbformat": 4,
 "nbformat_minor": 1
}
